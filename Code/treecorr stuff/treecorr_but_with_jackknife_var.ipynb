{
 "cells": [
  {
   "cell_type": "code",
   "execution_count": 1,
   "metadata": {},
   "outputs": [],
   "source": [
    "import treecorr\n",
    "\n",
    "from random import *\n",
    "import math\n",
    "import numpy as np\n",
    "import astropy.table\n",
    "from matplotlib import pyplot as plt\n",
    "from astroML.datasets import fetch_sdss_specgals"
   ]
  },
  {
   "cell_type": "code",
   "execution_count": 2,
   "metadata": {},
   "outputs": [
    {
     "name": "stdout",
     "output_type": "stream",
     "text": [
      "data size:\n",
      " red gals:  38017\n",
      " blue gals: 16883\n"
     ]
    }
   ],
   "source": [
    "from astroML.datasets import fetch_sdss_specgals\n",
    "\n",
    "# Get data and do some quality cuts\n",
    "data = fetch_sdss_specgals()\n",
    "m_max = 17.7\n",
    "# redshift and magnitude cuts\n",
    "data = data[data['z'] > 0.08]\n",
    "data = data[data['z'] < 0.12]\n",
    "data = data[data['petroMag_r'] < m_max]\n",
    "# RA/DEC cuts\n",
    "RAmin, RAmax = 140, 220 \n",
    "DECmin, DECmax = 5, 45\n",
    "data = data[data['ra'] < RAmax] \n",
    "data = data[data['ra'] > RAmin] \n",
    "data = data[data['dec'] < DECmax] \n",
    "data = data[data['dec'] > DECmin]\n",
    "ur = data['modelMag_u'] - data['modelMag_r'] \n",
    "flag_red = (ur > 2.22)\n",
    "flag_blue = ~flag_red\n",
    "data_red = data[flag_red] \n",
    "data_blue = data[flag_blue]\n",
    "print(\"data size:\")\n",
    "print(\" red gals: \", len(data_red)) \n",
    "print(\" blue gals:\", len(data_blue))"
   ]
  },
  {
   "cell_type": "code",
   "execution_count": 3,
   "metadata": {},
   "outputs": [],
   "source": [
    "nn_red = treecorr.NNCorrelation(nbins = 16, min_sep = 1/60, max_sep = 6, sep_units = 'deg', var_method='jackknife')\n",
    "\n",
    "cat_red = treecorr.Catalog(ra = data_red['ra'], dec = data_red['dec'],\n",
    "                             ra_units='deg', dec_units='deg', npatch = 100)\n",
    "\n",
    "nn_red.process(cat_red)\n",
    "\n",
    "ra_range_red = max(cat_red.ra) - min(cat_red.ra)\n",
    "dec_range_red = max(cat_red.dec) - min(cat_red.dec)\n",
    "ra_min_red = min(cat_red.ra)\n",
    "dec_min_red = min(cat_red.dec)\n",
    "\n",
    "rand_ra_red = []\n",
    "rand_dec_red = []\n",
    "\n",
    "min_cth = np.min(np.sin(cat_red.dec))\n",
    "max_cth = np.max(np.sin(cat_red.dec))\n",
    "rand_dec_red = np.arcsin(min_cth+(max_cth-min_cth)*np.random.random(size=len(data_red))) \n",
    "\n",
    "for i in range(len(data_red)):\n",
    "    u = random()\n",
    "    rand_ra_red.append((2*math.pi*u)*(ra_range_red/(2*math.pi)) + ra_min_red)\n",
    "    \n",
    "rr_red = treecorr.NNCorrelation(nbins = 16, min_sep = 1/60, max_sep = 6, sep_units = 'deg', var_method='jackknife')\n",
    "catrand_red = treecorr.Catalog(ra = rand_ra_red, dec = rand_dec_red, ra_units='rad', dec_units='rad')\n",
    "rr_red.process(catrand_red)\n",
    "\n",
    "dr_red = treecorr.NNCorrelation(nbins = 16, min_sep = 1/60, max_sep = 6,sep_units = 'deg', var_method='jackknife')\n",
    "dr_red.process(cat_red, catrand_red)\n",
    "\n",
    "bin_centers_red = nn_red.meanlogr\n",
    "\n",
    "corr_red = nn_red.calculateXi(rr_red, dr_red)"
   ]
  },
  {
   "cell_type": "code",
   "execution_count": 4,
   "metadata": {},
   "outputs": [],
   "source": [
    "nn_blue = treecorr.NNCorrelation(nbins = 16, min_sep = 1/60, max_sep = 6, sep_units = 'deg', var_method='jackknife')\n",
    "\n",
    "cat_blue = treecorr.Catalog(ra = data_blue['ra'], dec = data_blue['dec'], \n",
    "                            ra_units='deg', dec_units='deg', npatch = 100)\n",
    "\n",
    "nn_blue.process(cat_blue)\n",
    "\n",
    "ra_range_blue = max(cat_blue.ra) - min(cat_blue.ra)\n",
    "dec_range_blue = max(cat_blue.dec) - min(cat_blue.dec)\n",
    "ra_min_blue = min(cat_blue.ra)\n",
    "dec_min_blue = min(cat_blue.dec)\n",
    "\n",
    "rand_ra_blue = []\n",
    "rand_dec_blue = []\n",
    "\n",
    "min_cth = np.min(np.sin(cat_blue.dec))\n",
    "max_cth = np.max(np.sin(cat_blue.dec))\n",
    "rand_dec_blue = np.arcsin(min_cth+(max_cth-min_cth)*np.random.random(size=len(data_blue))) \n",
    "\n",
    "for i in range(len(data_blue)):\n",
    "    u = random()\n",
    "    rand_ra_blue.append((2*math.pi*u)*(ra_range_blue/(2*math.pi)) + ra_min_blue)\n",
    "    \n",
    "rr_blue = treecorr.NNCorrelation(nbins = 16, min_sep = 1/60, max_sep = 6, sep_units = 'deg', var_method='jackknife')\n",
    "catrand_blue = treecorr.Catalog(ra = rand_ra_blue, dec = rand_dec_blue, ra_units='rad', dec_units='rad')\n",
    "rr_blue.process(catrand_blue)\n",
    "\n",
    "dr_blue = treecorr.NNCorrelation(nbins = 16, min_sep = 1/60, max_sep = 6,sep_units = 'deg', var_method='jackknife')\n",
    "dr_blue.process(cat_blue, catrand_blue)\n",
    "\n",
    "bin_centers_blue = nn_blue.meanlogr\n",
    "\n",
    "corr_blue = nn_blue.calculateXi(rr_blue, dr_blue)"
   ]
  },
  {
   "cell_type": "code",
   "execution_count": 5,
   "metadata": {},
   "outputs": [],
   "source": [
    "corr = [corr_red, corr_blue]\n",
    "bin_centers = [bin_centers_red, bin_centers_blue]\n",
    "\n",
    "corr_stdev_red = [math.sqrt(k) for k in corr[0][1]]\n",
    "corr_stdev_blue = [math.sqrt(k) for k in corr[1][1]]\n",
    "\n",
    "corr_stdev = [corr_stdev_red, corr_stdev_blue]"
   ]
  },
  {
   "cell_type": "code",
   "execution_count": 6,
   "metadata": {},
   "outputs": [
    {
     "data": {
      "image/png": "[encoded data removed]",
      "text/plain": [
       "<Figure size 360x180 with 2 Axes>"
      ]
     },
     "metadata": {
      "needs_background": "light"
     },
     "output_type": "display_data"
    }
   ],
   "source": [
    "labels = ['$u-r > 2.22$\\n$N=%i$' % len(data_red),\n",
    "          '$u-r < 2.22$\\n$N=%i$' % len(data_blue)]\n",
    "\n",
    "fig = plt.figure(figsize=(5.0, 2.5))\n",
    "fig.subplots_adjust(bottom=0.2, top=0.9,\n",
    "                    left=0.13, right=0.95)\n",
    "for i in range(2):\n",
    "    ax = fig.add_subplot(121 + i)\n",
    "    \n",
    "    ax.set_ylim([10**(-2),10])\n",
    "    ax.set_yscale('log')\n",
    "    \n",
    "    ax.set_xlim([10**(-2),10])\n",
    "    ax.set_xscale('log')\n",
    "    \n",
    "    ax.errorbar(math.e**bin_centers[i], corr[i][0], corr_stdev[i], fmt='.k', ecolor='gray', lw=1)\n",
    "\n",
    "    t = np.array([0.01, 10])\n",
    "    ax.plot(t, 10 * (t / 0.01) ** -0.8, ':k', linewidth=1)\n",
    "\n",
    "    #plt.scatter(math.e**(bin_centers[i]),corr[i][0])\n",
    "    \n",
    "    ax.text(0.95, 0.95, labels[i],\n",
    "            ha='right', va='top', transform=ax.transAxes)\n",
    "    ax.set_xlabel(r'$\\theta\\ (deg)$')\n",
    "    if i == 0:\n",
    "        ax.set_ylabel(r'$\\hat{w}(\\theta)$')"
   ]
  },
  {
   "cell_type": "code",
   "execution_count": 10,
   "metadata": {},
   "outputs": [],
   "source": [
    "\"\"\"\n",
    "\n",
    "The Bootstrap method, for comparison\n",
    "\n",
    "\"\"\"\n",
    "\n",
    "nn_red = treecorr.NNCorrelation(nbins = 16, min_sep = 1/60, max_sep = 6, sep_units = 'deg', var_method='bootstrap')\n",
    "\n",
    "cat_red = treecorr.Catalog(ra = data_red['ra'], dec = data_red['dec'],\n",
    "                             ra_units='deg', dec_units='deg', npatch = 100)\n",
    "\n",
    "nn_red.process(cat_red)\n",
    "\n",
    "ra_range_red = max(cat_red.ra) - min(cat_red.ra)\n",
    "dec_range_red = max(cat_red.dec) - min(cat_red.dec)\n",
    "ra_min_red = min(cat_red.ra)\n",
    "dec_min_red = min(cat_red.dec)\n",
    "\n",
    "rand_ra_red = []\n",
    "rand_dec_red = []\n",
    "\n",
    "min_cth = np.min(np.sin(cat_red.dec))\n",
    "max_cth = np.max(np.sin(cat_red.dec))\n",
    "rand_dec_red = np.arcsin(min_cth+(max_cth-min_cth)*np.random.random(size=len(data_red))) \n",
    "\n",
    "for i in range(len(data_red)):\n",
    "    u = random()\n",
    "    rand_ra_red.append((2*math.pi*u)*(ra_range_red/(2*math.pi)) + ra_min_red)\n",
    "    \n",
    "rr_red = treecorr.NNCorrelation(nbins = 16, min_sep = 1/60, max_sep = 6, sep_units = 'deg', var_method='bootstrap')\n",
    "catrand_red = treecorr.Catalog(ra = rand_ra_red, dec = rand_dec_red, ra_units='rad', dec_units='rad')\n",
    "rr_red.process(catrand_red)\n",
    "\n",
    "dr_red = treecorr.NNCorrelation(nbins = 16, min_sep = 1/60, max_sep = 6,sep_units = 'deg', var_method='bootstrap')\n",
    "dr_red.process(cat_red, catrand_red)\n",
    "\n",
    "bin_centers_red = nn_red.meanlogr\n",
    "\n",
    "corr_red = nn_red.calculateXi(rr_red, dr_red)"
   ]
  },
  {
   "cell_type": "code",
   "execution_count": 11,
   "metadata": {},
   "outputs": [],
   "source": [
    "nn_blue = treecorr.NNCorrelation(nbins = 16, min_sep = 1/60, max_sep = 6, sep_units = 'deg', var_method='bootstrap')\n",
    "\n",
    "cat_blue = treecorr.Catalog(ra = data_blue['ra'], dec = data_blue['dec'], \n",
    "                            ra_units='deg', dec_units='deg', npatch = 100)\n",
    "\n",
    "nn_blue.process(cat_blue)\n",
    "\n",
    "ra_range_blue = max(cat_blue.ra) - min(cat_blue.ra)\n",
    "dec_range_blue = max(cat_blue.dec) - min(cat_blue.dec)\n",
    "ra_min_blue = min(cat_blue.ra)\n",
    "dec_min_blue = min(cat_blue.dec)\n",
    "\n",
    "rand_ra_blue = []\n",
    "rand_dec_blue = []\n",
    "\n",
    "min_cth = np.min(np.sin(cat_blue.dec))\n",
    "max_cth = np.max(np.sin(cat_blue.dec))\n",
    "rand_dec_blue = np.arcsin(min_cth+(max_cth-min_cth)*np.random.random(size=len(data_blue))) \n",
    "\n",
    "for i in range(len(data_blue)):\n",
    "    u = random()\n",
    "    rand_ra_blue.append((2*math.pi*u)*(ra_range_blue/(2*math.pi)) + ra_min_blue)\n",
    "    \n",
    "rr_blue = treecorr.NNCorrelation(nbins = 16, min_sep = 1/60, max_sep = 6, sep_units = 'deg', var_method='bootstrap')\n",
    "catrand_blue = treecorr.Catalog(ra = rand_ra_blue, dec = rand_dec_blue, ra_units='rad', dec_units='rad')\n",
    "rr_blue.process(catrand_blue)\n",
    "\n",
    "dr_blue = treecorr.NNCorrelation(nbins = 16, min_sep = 1/60, max_sep = 6,sep_units = 'deg', var_method='bootstrap')\n",
    "dr_blue.process(cat_blue, catrand_blue)\n",
    "\n",
    "bin_centers_blue = nn_blue.meanlogr\n",
    "\n",
    "corr_blue = nn_blue.calculateXi(rr_blue, dr_blue)"
   ]
  },
  {
   "cell_type": "code",
   "execution_count": 12,
   "metadata": {},
   "outputs": [],
   "source": [
    "corr = [corr_red, corr_blue]\n",
    "bin_centers = [bin_centers_red, bin_centers_blue]\n",
    "\n",
    "corr_stdev_red = [math.sqrt(k) for k in corr[0][1]]\n",
    "corr_stdev_blue = [math.sqrt(k) for k in corr[1][1]]\n",
    "\n",
    "corr_stdev = [corr_stdev_red, corr_stdev_blue]"
   ]
  },
  {
   "cell_type": "code",
   "execution_count": 13,
   "metadata": {},
   "outputs": [
    {
     "data": {
      "image/png": "[encoded data removed]",
      "text/plain": [
       "<Figure size 360x180 with 2 Axes>"
      ]
     },
     "metadata": {
      "needs_background": "light"
     },
     "output_type": "display_data"
    }
   ],
   "source": [
    "labels = ['$u-r > 2.22$\\n$N=%i$' % len(data_red),\n",
    "          '$u-r < 2.22$\\n$N=%i$' % len(data_blue)]\n",
    "\n",
    "fig = plt.figure(figsize=(5.0, 2.5))\n",
    "fig.subplots_adjust(bottom=0.2, top=0.9,\n",
    "                    left=0.13, right=0.95)\n",
    "for i in range(2):\n",
    "    ax = fig.add_subplot(121 + i)\n",
    "    \n",
    "    ax.set_ylim([10**(-2),10])\n",
    "    ax.set_yscale('log')\n",
    "    \n",
    "    ax.set_xlim([10**(-2),10])\n",
    "    ax.set_xscale('log')\n",
    "    \n",
    "    ax.errorbar(math.e**bin_centers[i], corr[i][0], corr_stdev[i], fmt='.k', ecolor='gray', lw=1)\n",
    "\n",
    "    t = np.array([0.01, 10])\n",
    "    ax.plot(t, 10 * (t / 0.01) ** -0.8, ':k', linewidth=1)\n",
    "\n",
    "    #plt.scatter(math.e**(bin_centers[i]),corr[i][0])\n",
    "    \n",
    "    ax.text(0.95, 0.95, labels[i],\n",
    "            ha='right', va='top', transform=ax.transAxes)\n",
    "    ax.set_xlabel(r'$\\theta\\ (deg)$')\n",
    "    if i == 0:\n",
    "        ax.set_ylabel(r'$\\hat{w}(\\theta)$')"
   ]
  },
  {
   "cell_type": "code",
   "execution_count": null,
   "metadata": {},
   "outputs": [],
   "source": []
  }
 ],
 "metadata": {
  "kernelspec": {
   "display_name": "Python 3",
   "language": "python",
   "name": "python3"
  },
  "language_info": {
   "codemirror_mode": {
    "name": "ipython",
    "version": 3
   },
   "file_extension": ".py",
   "mimetype": "text/x-python",
   "name": "python",
   "nbconvert_exporter": "python",
   "pygments_lexer": "ipython3",
   "version": "3.7.6"
  }
 },
 "nbformat": 4,
 "nbformat_minor": 4
}
