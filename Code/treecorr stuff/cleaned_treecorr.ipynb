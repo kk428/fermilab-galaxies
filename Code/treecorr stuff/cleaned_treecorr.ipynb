{
 "cells": [
  {
   "cell_type": "code",
   "execution_count": 193,
   "metadata": {},
   "outputs": [],
   "source": [
    "import treecorr\n",
    "\n",
    "from random import *\n",
    "import math\n",
    "import numpy as np\n",
    "import astropy.table\n",
    "from matplotlib import pyplot as plt\n",
    "from astroML.datasets import fetch_sdss_specgals"
   ]
  },
  {
   "cell_type": "code",
   "execution_count": 194,
   "metadata": {},
   "outputs": [
    {
     "name": "stdout",
     "output_type": "stream",
     "text": [
      "data size:\n",
      " red gals:  38017\n",
      " blue gals: 16883\n"
     ]
    }
   ],
   "source": [
    "from astroML.datasets import fetch_sdss_specgals\n",
    "\n",
    "# Get data and do some quality cuts\n",
    "data = fetch_sdss_specgals()\n",
    "m_max = 17.7\n",
    "# redshift and magnitude cuts\n",
    "data = data[data['z'] > 0.08]\n",
    "data = data[data['z'] < 0.12]\n",
    "data = data[data['petroMag_r'] < m_max]\n",
    "# RA/DEC cuts\n",
    "RAmin, RAmax = 140, 220 \n",
    "DECmin, DECmax = 5, 45\n",
    "data = data[data['ra'] < RAmax] \n",
    "data = data[data['ra'] > RAmin] \n",
    "data = data[data['dec'] < DECmax] \n",
    "data = data[data['dec'] > DECmin]\n",
    "ur = data['modelMag_u'] - data['modelMag_r'] \n",
    "flag_red = (ur > 2.22)\n",
    "flag_blue = ~flag_red\n",
    "data_red = data[flag_red] \n",
    "data_blue = data[flag_blue]\n",
    "print(\"data size:\")\n",
    "print(\" red gals: \", len(data_red)) \n",
    "print(\" blue gals:\", len(data_blue))"
   ]
  },
  {
   "cell_type": "code",
   "execution_count": 195,
   "metadata": {},
   "outputs": [],
   "source": [
    "nn = treecorr.NNCorrelation(nbins = 16, min_sep = 1/60, max_sep = 6, sep_units = 'deg')\n",
    "cat = treecorr.Catalog(ra = data['ra'], dec = data['dec'], ra_units='deg', dec_units='deg')\n",
    "nn.process(cat)"
   ]
  },
  {
   "cell_type": "code",
   "execution_count": 196,
   "metadata": {},
   "outputs": [],
   "source": [
    "# All given in radians:\n",
    "ra_range = max(cat.ra) - min(cat.ra)\n",
    "dec_range = max(cat.dec) - min(cat.dec)\n",
    "ra_min = min(cat.ra)\n",
    "dec_min = min(cat.dec)"
   ]
  },
  {
   "cell_type": "code",
   "execution_count": 197,
   "metadata": {},
   "outputs": [],
   "source": [
    "rand_ra = []\n",
    "rand_dec = []\n",
    "\n",
    "min_cth = np.min(np.sin(cat.dec))\n",
    "max_cth = np.max(np.sin(cat.dec))\n",
    "rand_dec = np.arcsin(min_cth+(max_cth-min_cth)*np.random.random(size=len(data))) \n",
    "\n",
    "for i in range(len(data)):\n",
    "    u = random()\n",
    "#    v = random()\n",
    "    rand_ra.append((2*math.pi*u)*(ra_range/(2*math.pi)) + ra_min)\n",
    "#    rand_dec.append((math.acos(2*v -1))*(dec_range/(math.pi)) + dec_min)"
   ]
  },
  {
   "cell_type": "code",
   "execution_count": 198,
   "metadata": {},
   "outputs": [],
   "source": [
    "rr = treecorr.NNCorrelation(nbins = 16, min_sep = 1/60, max_sep = 6, sep_units = 'deg')\n",
    "catrand = treecorr.Catalog(ra = rand_ra, dec = rand_dec, ra_units='rad', dec_units='rad')\n",
    "rr.process(catrand)"
   ]
  },
  {
   "cell_type": "code",
   "execution_count": 199,
   "metadata": {},
   "outputs": [
    {
     "data": {
      "text/plain": [
       "<matplotlib.collections.PathCollection at 0x1a2192d090>"
      ]
     },
     "execution_count": 199,
     "metadata": {},
     "output_type": "execute_result"
    },
    {
     "data": {
      "image/png": "[encoded data removed]",
      "text/plain": [
       "<Figure size 432x288 with 1 Axes>"
      ]
     },
     "metadata": {
      "needs_background": "light"
     },
     "output_type": "display_data"
    }
   ],
   "source": [
    "plt.scatter(catrand.ra, catrand.dec)\n",
    "plt.scatter(cat.ra, cat.dec)"
   ]
  },
  {
   "cell_type": "code",
   "execution_count": 200,
   "metadata": {},
   "outputs": [
    {
     "data": {
      "text/plain": [
       "<matplotlib.collections.PathCollection at 0x1a22e39190>"
      ]
     },
     "execution_count": 200,
     "metadata": {},
     "output_type": "execute_result"
    },
    {
     "data": {
      "image/png": "[encoded data removed]",
      "text/plain": [
       "<Figure size 432x288 with 1 Axes>"
      ]
     },
     "metadata": {
      "needs_background": "light"
     },
     "output_type": "display_data"
    }
   ],
   "source": [
    "bin_centers = nn.meanlogr\n",
    "\n",
    "corr = nn.calculateXi(rr)\n",
    "plt.scatter( math.e**(bin_centers),corr[0])"
   ]
  },
  {
   "cell_type": "code",
   "execution_count": 201,
   "metadata": {},
   "outputs": [
    {
     "data": {
      "text/plain": [
       "[<matplotlib.lines.Line2D at 0x1a247f1890>]"
      ]
     },
     "execution_count": 201,
     "metadata": {},
     "output_type": "execute_result"
    },
    {
     "data": {
      "image/png": "[encoded data removed]",
      "text/plain": [
       "<Figure size 432x288 with 1 Axes>"
      ]
     },
     "metadata": {
      "needs_background": "light"
     },
     "output_type": "display_data"
    }
   ],
   "source": [
    "plt.loglog( math.e**(bin_centers),corr[0])"
   ]
  },
  {
   "cell_type": "code",
   "execution_count": 202,
   "metadata": {},
   "outputs": [],
   "source": [
    "dr = treecorr.NNCorrelation(nbins = 16, min_sep = 1/60, max_sep = 6,sep_units = 'deg')\n",
    "dr.process(cat, catrand)"
   ]
  },
  {
   "cell_type": "code",
   "execution_count": 203,
   "metadata": {},
   "outputs": [
    {
     "data": {
      "text/plain": [
       "<matplotlib.collections.PathCollection at 0x1a29085910>"
      ]
     },
     "execution_count": 203,
     "metadata": {},
     "output_type": "execute_result"
    },
    {
     "data": {
      "image/png": "[encoded data removed]",
      "text/plain": [
       "<Figure size 432x288 with 1 Axes>"
      ]
     },
     "metadata": {
      "needs_background": "light"
     },
     "output_type": "display_data"
    }
   ],
   "source": [
    "bin_centers = nn.meanlogr\n",
    "\n",
    "corr = nn.calculateXi(rr, dr)\n",
    "plt.scatter( math.e**(bin_centers),corr[0])"
   ]
  },
  {
   "cell_type": "code",
   "execution_count": 204,
   "metadata": {},
   "outputs": [
    {
     "data": {
      "text/plain": [
       "[<matplotlib.lines.Line2D at 0x1a23072190>]"
      ]
     },
     "execution_count": 204,
     "metadata": {},
     "output_type": "execute_result"
    },
    {
     "data": {
      "image/png": "[encoded data removed]",
      "text/plain": [
       "<Figure size 432x288 with 1 Axes>"
      ]
     },
     "metadata": {
      "needs_background": "light"
     },
     "output_type": "display_data"
    }
   ],
   "source": [
    "# Trying loglog scale=\n",
    "plt.loglog(math.e**(bin_centers),corr[0])"
   ]
  },
  {
   "cell_type": "code",
   "execution_count": 205,
   "metadata": {},
   "outputs": [
    {
     "data": {
      "image/png": "[encoded data removed]",
      "text/plain": [
       "<Figure size 360x180 with 1 Axes>"
      ]
     },
     "metadata": {
      "needs_background": "light"
     },
     "output_type": "display_data"
    }
   ],
   "source": [
    "labels = ['$u-r > 2.22$\\n$N=%i$' % len(data_red),\n",
    "          '$u-r < 2.22$\\n$N=%i$' % len(data_blue)]\n",
    "\n",
    "fig = plt.figure(figsize=(5.0, 2.5))\n",
    "fig.subplots_adjust(bottom=0.2, top=0.9,\n",
    "                    left=0.13, right=0.95)\n",
    "for i in range(1):\n",
    "    ax = fig.add_subplot(121 + i)#, xscale='log', yscale='log')\n",
    "    \n",
    "    ax.set_ylim([10**(-2),10])\n",
    "    ax.set_yscale('log')\n",
    "    \n",
    "    ax.set_xlim([10**(-2),10])\n",
    "    ax.set_xscale('log')\n",
    "\n",
    "    #ax.errorbar(bin_centers, corr[i], corr_err[i],\n",
    "    #            fmt='.k', ecolor='gray', lw=1)\n",
    "\n",
    "    t = np.array([0.01, 10])\n",
    "    ax.plot(t, 10 * (t / 0.01) ** -0.8, ':k', linewidth=1)\n",
    "\n",
    "    plt.scatter(math.e**(bin_centers),corr[0])\n",
    "    \n",
    "    ax.text(0.95, 0.95, labels[i],\n",
    "            ha='right', va='top', transform=ax.transAxes)\n",
    "    ax.set_xlabel(r'$\\theta\\ (deg)$')\n",
    "    if i == 0:\n",
    "        ax.set_ylabel(r'$\\hat{w}(\\theta)$')"
   ]
  },
  {
   "cell_type": "code",
   "execution_count": 206,
   "metadata": {},
   "outputs": [],
   "source": [
    "\"\"\"\n",
    "\n",
    "Above I had only worked with the data as a whole.\n",
    "Below I account for the red/blue separation.\n",
    "\n",
    "\"\"\"\n",
    "\n",
    "nn_red = treecorr.NNCorrelation(nbins = 16, min_sep = 1/60, max_sep = 6, sep_units = 'deg')\n",
    "cat_red = treecorr.Catalog(ra = data_red['ra'], dec = data_red['dec'], ra_units='deg', dec_units='deg')\n",
    "nn_red.process(cat_red)\n",
    "\n",
    "ra_range_red = max(cat_red.ra) - min(cat_red.ra)\n",
    "dec_range_red = max(cat_red.dec) - min(cat_red.dec)\n",
    "ra_min_red = min(cat_red.ra)\n",
    "dec_min_red = min(cat_red.dec)\n",
    "\n",
    "rand_ra_red = []\n",
    "rand_dec_red = []\n",
    "\n",
    "min_cth = np.min(np.sin(cat_red.dec))\n",
    "max_cth = np.max(np.sin(cat_red.dec))\n",
    "rand_dec_red = np.arcsin(min_cth+(max_cth-min_cth)*np.random.random(size=len(data_red))) \n",
    "\n",
    "for i in range(len(data_red)):\n",
    "    u = random()\n",
    "    rand_ra_red.append((2*math.pi*u)*(ra_range_red/(2*math.pi)) + ra_min_red)\n",
    "    \n",
    "rr_red = treecorr.NNCorrelation(nbins = 16, min_sep = 1/60, max_sep = 6, sep_units = 'deg')\n",
    "catrand_red = treecorr.Catalog(ra = rand_ra_red, dec = rand_dec_red, ra_units='rad', dec_units='rad')\n",
    "rr_red.process(catrand_red)\n",
    "\n",
    "dr_red = treecorr.NNCorrelation(nbins = 16, min_sep = 1/60, max_sep = 6,sep_units = 'deg')\n",
    "dr_red.process(cat_red, catrand_red)\n",
    "\n",
    "bin_centers_red = nn_red.meanlogr\n",
    "\n",
    "corr_red = nn_red.calculateXi(rr_red, dr_red)"
   ]
  },
  {
   "cell_type": "code",
   "execution_count": 209,
   "metadata": {},
   "outputs": [],
   "source": [
    "nn_blue = treecorr.NNCorrelation(nbins = 16, min_sep = 1/60, max_sep = 6, sep_units = 'deg')\n",
    "cat_blue = treecorr.Catalog(ra = data_blue['ra'], dec = data_blue['dec'], ra_units='deg', dec_units='deg')\n",
    "nn_blue.process(cat_blue)\n",
    "\n",
    "ra_range_blue = max(cat_blue.ra) - min(cat_blue.ra)\n",
    "dec_range_blue = max(cat_blue.dec) - min(cat_blue.dec)\n",
    "ra_min_blue = min(cat_blue.ra)\n",
    "dec_min_blue = min(cat_blue.dec)\n",
    "\n",
    "rand_ra_blue = []\n",
    "rand_dec_blue = []\n",
    "\n",
    "min_cth = np.min(np.sin(cat_blue.dec))\n",
    "max_cth = np.max(np.sin(cat_blue.dec))\n",
    "rand_dec_blue = np.arcsin(min_cth+(max_cth-min_cth)*np.random.random(size=len(data_blue))) \n",
    "\n",
    "for i in range(len(data_blue)):\n",
    "    u = random()\n",
    "    rand_ra_blue.append((2*math.pi*u)*(ra_range_blue/(2*math.pi)) + ra_min_blue)\n",
    "    \n",
    "rr_blue = treecorr.NNCorrelation(nbins = 16, min_sep = 1/60, max_sep = 6, sep_units = 'deg')\n",
    "catrand_blue = treecorr.Catalog(ra = rand_ra_blue, dec = rand_dec_blue, ra_units='rad', dec_units='rad')\n",
    "rr_blue.process(catrand_blue)\n",
    "\n",
    "dr_blue = treecorr.NNCorrelation(nbins = 16, min_sep = 1/60, max_sep = 6,sep_units = 'deg')\n",
    "dr_blue.process(cat_blue, catrand_blue)\n",
    "\n",
    "bin_centers_blue = nn_blue.meanlogr\n",
    "\n",
    "corr_blue = nn_blue.calculateXi(rr_blue, dr_blue)\n",
    "\n"
   ]
  },
  {
   "cell_type": "code",
   "execution_count": 224,
   "metadata": {},
   "outputs": [],
   "source": [
    "corr = [corr_red, corr_blue]\n",
    "bin_centers = [bin_centers_red, bin_centers_blue]\n",
    "\n",
    "corr_stdev_red = [math.sqrt(k) for k in corr[0][1]]\n",
    "corr_stdev_blue = [math.sqrt(k) for k in corr[1][1]]\n",
    "\n",
    "corr_stdev = [corr_stdev_red, corr_stdev_blue]"
   ]
  },
  {
   "cell_type": "code",
   "execution_count": 225,
   "metadata": {},
   "outputs": [
    {
     "data": {
      "image/png": "[encoded data removed]",
      "text/plain": [
       "<Figure size 360x180 with 2 Axes>"
      ]
     },
     "metadata": {
      "needs_background": "light"
     },
     "output_type": "display_data"
    }
   ],
   "source": [
    "labels = ['$u-r > 2.22$\\n$N=%i$' % len(data_red),\n",
    "          '$u-r < 2.22$\\n$N=%i$' % len(data_blue)]\n",
    "\n",
    "fig = plt.figure(figsize=(5.0, 2.5))\n",
    "fig.subplots_adjust(bottom=0.2, top=0.9,\n",
    "                    left=0.13, right=0.95)\n",
    "for i in range(2):\n",
    "    ax = fig.add_subplot(121 + i)\n",
    "    \n",
    "    ax.set_ylim([10**(-2),10])\n",
    "    ax.set_yscale('log')\n",
    "    \n",
    "    ax.set_xlim([10**(-2),10])\n",
    "    ax.set_xscale('log')\n",
    "    \n",
    "    ax.errorbar(math.e**bin_centers[i], corr[i][0], corr_stdev[i], fmt='.k', ecolor='gray', lw=1)\n",
    "\n",
    "    t = np.array([0.01, 10])\n",
    "    ax.plot(t, 10 * (t / 0.01) ** -0.8, ':k', linewidth=1)\n",
    "\n",
    "    #plt.scatter(math.e**(bin_centers[i]),corr[i][0])\n",
    "    \n",
    "    ax.text(0.95, 0.95, labels[i],\n",
    "            ha='right', va='top', transform=ax.transAxes)\n",
    "    ax.set_xlabel(r'$\\theta\\ (deg)$')\n",
    "    if i == 0:\n",
    "        ax.set_ylabel(r'$\\hat{w}(\\theta)$')"
   ]
  },
  {
   "cell_type": "code",
   "execution_count": null,
   "metadata": {},
   "outputs": [],
   "source": []
  }
 ],
 "metadata": {
  "kernelspec": {
   "display_name": "Python 3",
   "language": "python",
   "name": "python3"
  },
  "language_info": {
   "codemirror_mode": {
    "name": "ipython",
    "version": 3
   },
   "file_extension": ".py",
   "mimetype": "text/x-python",
   "name": "python",
   "nbconvert_exporter": "python",
   "pygments_lexer": "ipython3",
   "version": "3.7.6"
  }
 },
 "nbformat": 4,
 "nbformat_minor": 4
}
