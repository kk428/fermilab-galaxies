{
 "cells": [
  {
   "cell_type": "code",
   "execution_count": 1,
   "metadata": {},
   "outputs": [],
   "source": [
    "import matplotlib.pyplot as plt\n",
    "%matplotlib inline\n",
    "import camb\n",
    "from camb.sources import GaussianSourceWindow, SplinedSourceWindow\n",
    "import camb.correlations\n",
    "from camb import model, initialpower\n",
    "import numpy as np\n",
    "import astropy.table\n",
    "import pandas as pd\n",
    "import math\n",
    "import pickle\n",
    "from astroML.datasets import fetch_sdss_specgals\n",
    "from scipy.optimize import fmin\n",
    "\n",
    "import SDSS_treecorr as stc"
   ]
  },
  {
   "cell_type": "code",
   "execution_count": 2,
   "metadata": {},
   "outputs": [
    {
     "name": "stdout",
     "output_type": "stream",
     "text": [
      "data size:\n",
      " red gals:  38017\n",
      " blue gals: 16883\n"
     ]
    }
   ],
   "source": [
    "data = fetch_sdss_specgals()\n",
    "m_max = 17.7\n",
    "# redshift and magnitude cuts\n",
    "data = data[data['z'] > 0.08]\n",
    "data = data[data['z'] < 0.12]\n",
    "data = data[data['petroMag_r'] < m_max]\n",
    "# RA/DEC cuts\n",
    "RAmin, RAmax = 140, 220 \n",
    "DECmin, DECmax = 5, 45\n",
    "data = data[data['ra'] < RAmax] \n",
    "data = data[data['ra'] > RAmin] \n",
    "data = data[data['dec'] < DECmax] \n",
    "data = data[data['dec'] > DECmin]\n",
    "ur = data['modelMag_u'] - data['modelMag_r'] \n",
    "flag_red = (ur > 2.22)\n",
    "flag_blue = ~flag_red\n",
    "data_red = data[flag_red] \n",
    "data_blue = data[flag_blue]\n",
    "print(\"data size:\")\n",
    "print(\" red gals: \", len(data_red)) \n",
    "print(\" blue gals:\", len(data_blue))"
   ]
  },
  {
   "cell_type": "code",
   "execution_count": 3,
   "metadata": {},
   "outputs": [],
   "source": [
    "Nz, be = np.histogram(data['z'][flag_red], bins=8, range=(0.05,0.15))"
   ]
  },
  {
   "cell_type": "code",
   "execution_count": 4,
   "metadata": {},
   "outputs": [],
   "source": [
    "def getcorrTree(data):\n",
    "    corr, bincenters, cov = stc.calccorr(data)\n",
    "    return [corr, math.e**bincenters, cov]"
   ]
  },
  {
   "cell_type": "code",
   "execution_count": 5,
   "metadata": {},
   "outputs": [],
   "source": [
    "def getcorrCAMB(centers, Om, bias):\n",
    "    lmax = 7500\n",
    "    pars = camb.CAMBparams() # Set up the CAMB parameters\n",
    "    h=0.675 # Planck value for h (Hubble parameter)\n",
    "    Ob = 0.044 # Planck value for Omega_b (Baryon energy density)\n",
    "    #Om = 0.31 # Planck value for Omega_m (Matter energy density)\n",
    "    Oc = Om-Ob # Value for Omega_c (Cold dark matter energy density)\n",
    "    As=2e-9 # Amplitude of initial fluctuations\n",
    "    ns=0.965 # Scalar index\n",
    "    pars.set_cosmology(H0=100*h, ombh2=Ob*h**2, omch2=Oc*h**2) # This sets the cosmological parameters\n",
    "    pars.InitPower.set_params(As=As, ns=ns) # This also sets the cosmological parameters\n",
    "    pars.set_for_lmax(lmax, lens_potential_accuracy=1) # Set the maximum ell\n",
    "    #set Want_CMB to true if you also want CMB spectra or correlations\n",
    "    pars.Want_CMB = False # We don't want the CMB\n",
    "    #NonLinear_both or NonLinear_lens will use non-linear corrections\n",
    "    pars.NonLinear = model.NonLinear_both # We want non-linear corrections\n",
    "    #Set up W(z) window functions, later labelled W1, W2.\n",
    "    zs = 0.5*(be[1:] + be[:-1]) #z # Range of zs\n",
    "    W = Nz # Window function\n",
    "    pars.SourceWindows = [SplinedSourceWindow(source_type='counts', bias=bias, z=zs, W=W)] # Set up the window function\n",
    "    \n",
    "    results = camb.get_results(pars)\n",
    "    cls = results.get_source_cls_dict()\n",
    "    ls=  np.arange(2, lmax+1)\n",
    "    \n",
    "    angles = centers #np.logspace(-2, 1) # Angles from 0.01 to 10 deg\n",
    "    x = np.cos(np.radians(angles)) # Convert them to radians and compute cosine to passs to CAMB\n",
    "    cls_in = np.array([cls['W1xW1'][1:lmax+1], np.zeros(lmax), np.zeros(lmax), np.zeros(lmax)]).T\n",
    "    #cl2corr needs TT (temperature/density), EE (E-mode), BB (B-mode), TE (Temperature-polarization cross correlation) -> we only care about TT\n",
    "    w_camb = camb.correlations.cl2corr(cls_in, x);\n",
    "    \n",
    "    return w_camb"
   ]
  },
  {
   "cell_type": "code",
   "execution_count": 6,
   "metadata": {},
   "outputs": [],
   "source": [
    "def biasfunc2(b, corr_tree, corr_camb, inv_cov):\n",
    "    return np.matmul((corr_tree- b**2*corr_camb), np.matmul(inv_cov,(corr_tree- b**2*corr_camb)))"
   ]
  },
  {
   "cell_type": "code",
   "execution_count": 16,
   "metadata": {},
   "outputs": [],
   "source": [
    "def findb(data):\n",
    "    corr, centers, cov = getcorrTree(data)\n",
    "    w_camb = getcorrCAMB(centers, 0.31,1)\n",
    "    \n",
    "    corr_tree = corr[0]\n",
    "    corr_camb = w_camb[:,0]\n",
    "    \n",
    "    inv_cov = np.linalg.inv(cov)\n",
    "    \n",
    "    result = fmin(biasfunc2, 0, args = (corr_tree, corr_camb, inv_cov), disp=False);\n",
    "    \n",
    "    return result[0]\n",
    "    "
   ]
  },
  {
   "cell_type": "code",
   "execution_count": 8,
   "metadata": {},
   "outputs": [
    {
     "ename": "NameError",
     "evalue": "name 'centers' is not defined",
     "output_type": "error",
     "traceback": [
      "\u001b[0;31m---------------------------------------------------------------------------\u001b[0m",
      "\u001b[0;31mNameError\u001b[0m                                 Traceback (most recent call last)",
      "\u001b[0;32m<ipython-input-8-573c04da919b>\u001b[0m in \u001b[0;36m<module>\u001b[0;34m\u001b[0m\n\u001b[0;32m----> 1\u001b[0;31m \u001b[0mcorr1\u001b[0m \u001b[0;34m=\u001b[0m \u001b[0mgetcorrCAMB\u001b[0m\u001b[0;34m(\u001b[0m\u001b[0mcenters\u001b[0m\u001b[0;34m,\u001b[0m \u001b[0;36m0.3\u001b[0m\u001b[0;34m,\u001b[0m \u001b[0;36m1\u001b[0m\u001b[0;34m)\u001b[0m\u001b[0;34m[\u001b[0m\u001b[0;34m:\u001b[0m\u001b[0;34m,\u001b[0m\u001b[0;36m0\u001b[0m\u001b[0;34m]\u001b[0m\u001b[0;34m\u001b[0m\u001b[0;34m\u001b[0m\u001b[0m\n\u001b[0m",
      "\u001b[0;31mNameError\u001b[0m: name 'centers' is not defined"
     ]
    }
   ],
   "source": [
    "corr1 = getcorrCAMB(centers, 0.3, 1)[:,0]"
   ]
  },
  {
   "cell_type": "code",
   "execution_count": 10,
   "metadata": {},
   "outputs": [],
   "source": [
    "corr, centers, cov = getcorrTree(data)\n",
    "#w_camb = getcorrCAMB(centers)\n",
    "w_camb = getcorrCAMB(centers, 0.3, 1)"
   ]
  },
  {
   "cell_type": "code",
   "execution_count": 11,
   "metadata": {},
   "outputs": [],
   "source": [
    "corr_tree = corr[0]\n",
    "corr_camb = w_camb[:,0]"
   ]
  },
  {
   "cell_type": "code",
   "execution_count": 57,
   "metadata": {},
   "outputs": [],
   "source": [
    "\"\"\"\n",
    "\n",
    "First let's look at the simplified case:\n",
    "\n",
    "minimum = (corr_tree - (b**2)*(corr_camb))**2\n",
    "\n",
    "... where we're trying to find a b that produces this minimum.\n",
    "\n",
    "\"\"\"\n",
    "\n",
    "def biasfunc1(b):\n",
    "    return np.matmul(corr_tree - (b**2)*(corr_camb), corr_tree - (b**2)*(corr_camb))"
   ]
  },
  {
   "cell_type": "code",
   "execution_count": 58,
   "metadata": {},
   "outputs": [
    {
     "data": {
      "text/plain": [
       "4.7659774079960515"
      ]
     },
     "execution_count": 58,
     "metadata": {},
     "output_type": "execute_result"
    }
   ],
   "source": [
    "biasfunc1(1)"
   ]
  },
  {
   "cell_type": "code",
   "execution_count": 59,
   "metadata": {},
   "outputs": [
    {
     "name": "stdout",
     "output_type": "stream",
     "text": [
      "Optimization terminated successfully.\n",
      "         Current function value: 0.566635\n",
      "         Iterations: 25\n",
      "         Function evaluations: 50\n"
     ]
    },
    {
     "data": {
      "text/plain": [
       "array([1.2299375])"
      ]
     },
     "execution_count": 59,
     "metadata": {},
     "output_type": "execute_result"
    }
   ],
   "source": [
    "fmin(biasfunc1, 0)"
   ]
  },
  {
   "cell_type": "code",
   "execution_count": 60,
   "metadata": {},
   "outputs": [
    {
     "data": {
      "text/plain": [
       "0.5934078970206809"
      ]
     },
     "execution_count": 60,
     "metadata": {},
     "output_type": "execute_result"
    }
   ],
   "source": [
    "biasfunc1(1.2464375)"
   ]
  },
  {
   "cell_type": "code",
   "execution_count": 61,
   "metadata": {},
   "outputs": [],
   "source": [
    "\"\"\"\n",
    "Alright, now with \n",
    "\n",
    "(data- b**2*theory)* Cov^{-1}*(data- b**2*theory) = minimum\n",
    "\n",
    "Cov() is  the covariance matrix.\n",
    "\n",
    "\"\"\"\n",
    "\n",
    "inv_cov = np.linalg.inv(cov)"
   ]
  },
  {
   "cell_type": "code",
   "execution_count": 70,
   "metadata": {},
   "outputs": [],
   "source": [
    "def biasfunc2(b, corr_tree, corr_camb):\n",
    "    return np.matmul((corr_tree- b**2*corr_camb), np.matmul(inv_cov,(corr_tree- b**2*corr_camb)))"
   ]
  },
  {
   "cell_type": "code",
   "execution_count": 12,
   "metadata": {},
   "outputs": [
    {
     "ename": "TypeError",
     "evalue": "biasfunc2() missing 3 required positional arguments: 'corr_tree', 'corr_camb', and 'inv_cov'",
     "output_type": "error",
     "traceback": [
      "\u001b[0;31m---------------------------------------------------------------------------\u001b[0m",
      "\u001b[0;31mTypeError\u001b[0m                                 Traceback (most recent call last)",
      "\u001b[0;32m<ipython-input-12-30389f251a77>\u001b[0m in \u001b[0;36m<module>\u001b[0;34m\u001b[0m\n\u001b[0;32m----> 1\u001b[0;31m \u001b[0mbiasfunc2\u001b[0m\u001b[0;34m(\u001b[0m\u001b[0;36m1\u001b[0m\u001b[0;34m)\u001b[0m\u001b[0;34m\u001b[0m\u001b[0;34m\u001b[0m\u001b[0m\n\u001b[0m",
      "\u001b[0;31mTypeError\u001b[0m: biasfunc2() missing 3 required positional arguments: 'corr_tree', 'corr_camb', and 'inv_cov'"
     ]
    }
   ],
   "source": [
    "biasfunc2(1)"
   ]
  },
  {
   "cell_type": "code",
   "execution_count": 14,
   "metadata": {},
   "outputs": [],
   "source": [
    "#result = fmin(biasfunc2, 0, args = (corr_tree, corr_camb))"
   ]
  },
  {
   "cell_type": "code",
   "execution_count": 69,
   "metadata": {},
   "outputs": [
    {
     "data": {
      "text/plain": [
       "132.85749477688552"
      ]
     },
     "execution_count": 69,
     "metadata": {},
     "output_type": "execute_result"
    }
   ],
   "source": [
    "biasfunc2(1.194625)"
   ]
  },
  {
   "cell_type": "code",
   "execution_count": 77,
   "metadata": {},
   "outputs": [
    {
     "data": {
      "text/plain": [
       "1.2081250000000012"
      ]
     },
     "execution_count": 77,
     "metadata": {},
     "output_type": "execute_result"
    }
   ],
   "source": [
    "result[0]"
   ]
  },
  {
   "cell_type": "code",
   "execution_count": 91,
   "metadata": {},
   "outputs": [
    {
     "name": "stdout",
     "output_type": "stream",
     "text": [
      "0.7083125000000008\n",
      "0.3662500000000003\n",
      "0.5868750000000005\n"
     ]
    }
   ],
   "source": [
    "\"\"\"\n",
    "Now for red and blue:\n",
    "\n",
    "\"\"\"\n",
    "\n",
    "print(findb(data_red))\n",
    "print(findb(data_blue))\n",
    "print(findb(data))\n"
   ]
  },
  {
   "cell_type": "code",
   "execution_count": 18,
   "metadata": {},
   "outputs": [
    {
     "name": "stdout",
     "output_type": "stream",
     "text": [
      "1.2024375000000012\n"
     ]
    }
   ],
   "source": [
    "print(findb(data))"
   ]
  },
  {
   "cell_type": "code",
   "execution_count": 19,
   "metadata": {},
   "outputs": [
    {
     "name": "stdout",
     "output_type": "stream",
     "text": [
      "1.4464375000000014\n",
      "0.8197500000000009\n"
     ]
    }
   ],
   "source": [
    "print(findb(data_red))\n",
    "print(findb(data_blue))"
   ]
  },
  {
   "cell_type": "code",
   "execution_count": null,
   "metadata": {},
   "outputs": [],
   "source": []
  }
 ],
 "metadata": {
  "kernelspec": {
   "display_name": "Python 3",
   "language": "python",
   "name": "python3"
  },
  "language_info": {
   "codemirror_mode": {
    "name": "ipython",
    "version": 3
   },
   "file_extension": ".py",
   "mimetype": "text/x-python",
   "name": "python",
   "nbconvert_exporter": "python",
   "pygments_lexer": "ipython3",
   "version": "3.7.6"
  }
 },
 "nbformat": 4,
 "nbformat_minor": 4
}
