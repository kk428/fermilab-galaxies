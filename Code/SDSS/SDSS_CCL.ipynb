{
 "cells": [
  {
   "cell_type": "code",
   "execution_count": 32,
   "metadata": {},
   "outputs": [],
   "source": [
    "import matplotlib.pyplot as plt\n",
    "%matplotlib inline\n",
    "import pyccl as ccl\n",
    "import numpy as np\n",
    "import astropy.table\n",
    "import pandas as pd\n",
    "import math\n",
    "import pickle\n",
    "from astroML.datasets import fetch_sdss_specgals\n",
    "from scipy.optimize import minimize\n",
    "\n",
    "import SDSS_treecorr as stc"
   ]
  },
  {
   "cell_type": "code",
   "execution_count": 3,
   "metadata": {},
   "outputs": [],
   "source": [
    "def getdata():\n",
    "    data = fetch_sdss_specgals()\n",
    "    m_max = 17.7\n",
    "    # redshift and magnitude cuts\n",
    "    data = data[data['z'] > 0.08]\n",
    "    data = data[data['z'] < 0.12]\n",
    "    data = data[data['petroMag_r'] < m_max]\n",
    "    # RA/DEC cuts\n",
    "    RAmin, RAmax = 140, 220 \n",
    "    DECmin, DECmax = 5, 45\n",
    "    data = data[data['ra'] < RAmax] \n",
    "    data = data[data['ra'] > RAmin] \n",
    "    data = data[data['dec'] < DECmax] \n",
    "    data = data[data['dec'] > DECmin]\n",
    "    ur = data['modelMag_u'] - data['modelMag_r'] \n",
    "    flag_red = (ur > 2.22)\n",
    "    flag_blue = ~flag_red\n",
    "    data_red = data[flag_red] \n",
    "    data_blue = data[flag_blue]\n",
    "    \n",
    "    return [data, data_red, data_blue]"
   ]
  },
  {
   "cell_type": "code",
   "execution_count": 26,
   "metadata": {},
   "outputs": [],
   "source": [
    "def getcorrTree(data):\n",
    "    corr, bincenters, cov = stc.calccorr(data)\n",
    "    return [corr, math.e**bincenters, cov]"
   ]
  },
  {
   "cell_type": "code",
   "execution_count": 27,
   "metadata": {},
   "outputs": [],
   "source": [
    "def getcorrCCL(theta, data, centers):\n",
    "    \n",
    "    Nz, be = np.histogram(data['z'], bins=8, range=(0.05,0.15))\n",
    "    z = 0.5*(be[1:] + be[:-1])\n",
    "   \n",
    "    h=0.675 # Planck value for h (Hubble parameter)\n",
    "    Ob = 0.044 # Planck value for Omega_b (Baryon energy density)\n",
    "    Om = theta[1] # Planck value for Omega_m (Matter energy density)\n",
    "    Oc = Om-Ob # Value for Omega_c (Cold dark matter energy density)\n",
    "    ns=0.965 # Scalar index\n",
    "    \n",
    "    cosmo = ccl.Cosmology(Omega_c=Oc, Omega_b=Ob, h=h, sigma8=0.8, n_s=ns, matter_power_spectrum='linear')\n",
    "    \n",
    "    tracer = ccl.NumberCountsTracer(cosmo,has_rsd=False,\n",
    "                                                dndz=(z,Nz),\n",
    "                                                bias=(z,np.ones_like(z)))\n",
    "\n",
    "    ell = np.arange(1, 7500) # is this the same as lmax?\n",
    "    angular_power_spectrum = ccl.angular_cl(cosmo, tracer, tracer, ell)\n",
    "    \n",
    "    th = centers #np.linspace(0,0.2, num = 15)\n",
    "\n",
    "    ang_corr_func = ccl.correlation(cosmo, ell, angular_power_spectrum, th)\n",
    "    \n",
    "    return ang_corr_func"
   ]
  },
  {
   "cell_type": "code",
   "execution_count": 28,
   "metadata": {},
   "outputs": [],
   "source": [
    "def biasfunc2(theta, corr_tree, data, centers, inv_cov):\n",
    "    corr_ccl = getcorrCCL(theta, data, centers)\n",
    "    return np.einsum('i,i',(corr_tree- theta[0]**2*corr_ccl),\n",
    "                     np.einsum('ij,j', inv_cov,(corr_tree- theta[0]**2*corr_ccl)))"
   ]
  },
  {
   "cell_type": "code",
   "execution_count": 33,
   "metadata": {},
   "outputs": [],
   "source": [
    "def findb(data):\n",
    "    corr, centers, cov = getcorrTree(data)\n",
    "    corr_camb = getcorrCCL([1, 0.31], data, centers)\n",
    "    \n",
    "    corr_tree = corr[0]\n",
    "    \n",
    "    inv_cov = np.linalg.inv(cov)\n",
    "    \n",
    "    result = minimize(biasfunc2, np.array([0.1,0.1]), args = (corr_tree, data, centers, inv_cov), bounds = ((0.6,4),(0,1)));\n",
    "    \n",
    "    return result\n",
    "    "
   ]
  },
  {
   "cell_type": "code",
   "execution_count": 30,
   "metadata": {},
   "outputs": [],
   "source": [
    "data = getdata()[0]\n",
    "corr, centers, cov = getcorrTree(data)"
   ]
  },
  {
   "cell_type": "code",
   "execution_count": 34,
   "metadata": {},
   "outputs": [
    {
     "data": {
      "text/plain": [
       "      fun: 621.3950622871665\n",
       " hess_inv: <2x2 LbfgsInvHessProduct with dtype=float64>\n",
       "      jac: array([-4.54747351e-05, -2.69580369e+01])\n",
       "  message: b'CONVERGENCE: REL_REDUCTION_OF_F_<=_FACTR*EPSMCH'\n",
       "     nfev: 30\n",
       "      nit: 6\n",
       "   status: 0\n",
       "  success: True\n",
       "        x: array([1.41111878, 1.        ])"
      ]
     },
     "execution_count": 34,
     "metadata": {},
     "output_type": "execute_result"
    }
   ],
   "source": [
    "findb(data)"
   ]
  },
  {
   "cell_type": "code",
   "execution_count": 42,
   "metadata": {},
   "outputs": [
    {
     "data": {
      "text/plain": [
       "(array([3.90093458, 2.84353741, 2.17452403, 1.69690949, 1.2649048 ,\n",
       "        0.94527034, 0.69250609, 0.52877871, 0.41319299, 0.31975283,\n",
       "        0.24682372, 0.19392103, 0.14885634, 0.10842921, 0.06446442,\n",
       "        0.03494276]),\n",
       " array([0.04010381, 0.0287429 , 0.01940184, 0.01672652, 0.01322045,\n",
       "        0.00957737, 0.00746904, 0.0060428 , 0.00536413, 0.00456449,\n",
       "        0.00444418, 0.00440232, 0.00494565, 0.00523362, 0.0051577 ,\n",
       "        0.00421692]))"
      ]
     },
     "execution_count": 42,
     "metadata": {},
     "output_type": "execute_result"
    }
   ],
   "source": [
    "corr"
   ]
  },
  {
   "cell_type": "code",
   "execution_count": null,
   "metadata": {},
   "outputs": [],
   "source": []
  }
 ],
 "metadata": {
  "kernelspec": {
   "display_name": "Python 3",
   "language": "python",
   "name": "python3"
  },
  "language_info": {
   "codemirror_mode": {
    "name": "ipython",
    "version": 3
   },
   "file_extension": ".py",
   "mimetype": "text/x-python",
   "name": "python",
   "nbconvert_exporter": "python",
   "pygments_lexer": "ipython3",
   "version": "3.7.6"
  }
 },
 "nbformat": 4,
 "nbformat_minor": 4
}
