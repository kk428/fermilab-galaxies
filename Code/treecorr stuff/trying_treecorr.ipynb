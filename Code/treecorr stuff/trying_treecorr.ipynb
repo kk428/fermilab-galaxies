{
 "cells": [
  {
   "cell_type": "code",
   "execution_count": 1,
   "metadata": {},
   "outputs": [],
   "source": [
    "import treecorr\n",
    "\n",
    "from random import *\n",
    "import math\n",
    "import numpy as np\n",
    "import astropy.table\n",
    "from matplotlib import pyplot as plt\n",
    "from astroML.datasets import fetch_sdss_specgals"
   ]
  },
  {
   "cell_type": "code",
   "execution_count": 2,
   "metadata": {},
   "outputs": [],
   "source": [
    "nn = treecorr.NNCorrelation(nbins = 16, min_sep = 1/60, max_sep = 6) # param. can be chosen to match astroML version"
   ]
  },
  {
   "cell_type": "code",
   "execution_count": 3,
   "metadata": {},
   "outputs": [
    {
     "data": {
      "text/plain": [
       "'\\n\\nI want to find nn.calculateXi(rr), but for that I would need rr, the \"NNCorrelation function for random points\".\\n\\nOr... do I just need to use nn.process(catalog)?\\n    Also, is \"Euclidean\" a good enough approximation for the method? Or is \"Arc\" necessary?\\n\\n\\nActually I think I need both.\\n\\n'"
      ]
     },
     "execution_count": 3,
     "metadata": {},
     "output_type": "execute_result"
    }
   ],
   "source": [
    "\"\"\"\n",
    "\n",
    "I want to find nn.calculateXi(rr), but for that I would need rr, the \"NNCorrelation function for random points\".\n",
    "\n",
    "Or... do I just need to use nn.process(catalog)?\n",
    "    Also, is \"Euclidean\" a good enough approximation for the method? Or is \"Arc\" necessary?\n",
    "\n",
    "\n",
    "Actually I think I need both.\n",
    "\n",
    "\"\"\""
   ]
  },
  {
   "cell_type": "code",
   "execution_count": 4,
   "metadata": {},
   "outputs": [
    {
     "name": "stdout",
     "output_type": "stream",
     "text": [
      "data size:\n",
      " red gals:  38017\n",
      " blue gals: 16883\n"
     ]
    }
   ],
   "source": [
    "from astroML.datasets import fetch_sdss_specgals\n",
    "\n",
    "# Get data and do some quality cuts\n",
    "data = fetch_sdss_specgals()\n",
    "m_max = 17.7\n",
    "# redshift and magnitude cuts\n",
    "data = data[data['z'] > 0.08]\n",
    "data = data[data['z'] < 0.12]\n",
    "data = data[data['petroMag_r'] < m_max]\n",
    "# RA/DEC cuts\n",
    "RAmin, RAmax = 140, 220 \n",
    "DECmin, DECmax = 5, 45\n",
    "data = data[data['ra'] < RAmax] \n",
    "data = data[data['ra'] > RAmin] \n",
    "data = data[data['dec'] < DECmax] \n",
    "data = data[data['dec'] > DECmin]\n",
    "ur = data['modelMag_u'] - data['modelMag_r'] \n",
    "flag_red = (ur > 2.22)\n",
    "flag_blue = ~flag_red\n",
    "data_red = data[flag_red] \n",
    "data_blue = data[flag_blue]\n",
    "print(\"data size:\")\n",
    "print(\" red gals: \", len(data_red)) \n",
    "print(\" blue gals:\", len(data_blue))"
   ]
  },
  {
   "cell_type": "code",
   "execution_count": 5,
   "metadata": {},
   "outputs": [
    {
     "data": {
      "text/plain": [
       "array([150.22379435, 151.11106345, 152.05986128, ..., 164.26128478,\n",
       "       164.29429782, 164.34472246])"
      ]
     },
     "execution_count": 5,
     "metadata": {},
     "output_type": "execute_result"
    }
   ],
   "source": [
    "data['ra']"
   ]
  },
  {
   "cell_type": "code",
   "execution_count": 6,
   "metadata": {},
   "outputs": [],
   "source": [
    "cat = treecorr.Catalog(ra = data['ra'], dec = data['dec'], ra_units='deg', dec_units='deg')"
   ]
  },
  {
   "cell_type": "code",
   "execution_count": 7,
   "metadata": {},
   "outputs": [],
   "source": [
    "nn.process(cat)"
   ]
  },
  {
   "cell_type": "code",
   "execution_count": 8,
   "metadata": {},
   "outputs": [
    {
     "data": {
      "text/plain": [
       "54900"
      ]
     },
     "execution_count": 8,
     "metadata": {},
     "output_type": "execute_result"
    }
   ],
   "source": [
    "len(data['ra'])"
   ]
  },
  {
   "cell_type": "code",
   "execution_count": 9,
   "metadata": {},
   "outputs": [],
   "source": [
    "rand_ra = []\n",
    "rand_dec = []\n",
    "for i in range(54900):\n",
    "    u = random()\n",
    "    v = random()\n",
    "    rand_ra.append((2*math.pi*u) )\n",
    "    rand_dec.append(math.acos(2*v -1))"
   ]
  },
  {
   "cell_type": "code",
   "execution_count": 10,
   "metadata": {},
   "outputs": [],
   "source": [
    "rr = treecorr.NNCorrelation(nbins = 16, min_sep = 1/60, max_sep = 6)"
   ]
  },
  {
   "cell_type": "code",
   "execution_count": 11,
   "metadata": {},
   "outputs": [],
   "source": [
    "catrand = treecorr.Catalog(ra = rand_ra, dec = rand_dec, ra_units='deg', dec_units='deg')"
   ]
  },
  {
   "cell_type": "code",
   "execution_count": 12,
   "metadata": {},
   "outputs": [],
   "source": [
    "rr.process(catrand)"
   ]
  },
  {
   "cell_type": "code",
   "execution_count": 13,
   "metadata": {},
   "outputs": [
    {
     "name": "stdout",
     "output_type": "stream",
     "text": [
      "Warning: Some bins for the randoms had no pairs.\n"
     ]
    }
   ],
   "source": [
    "corr = nn.calculateXi(rr)"
   ]
  },
  {
   "cell_type": "code",
   "execution_count": 14,
   "metadata": {},
   "outputs": [
    {
     "data": {
      "text/plain": [
       "[<matplotlib.lines.Line2D at 0x1a27ebe690>]"
      ]
     },
     "execution_count": 14,
     "metadata": {},
     "output_type": "execute_result"
    },
    {
     "data": {
      "image/png": "[encoded data removed]",
      "text/plain": [
       "<Figure size 432x288 with 1 Axes>"
      ]
     },
     "metadata": {
      "needs_background": "light"
     },
     "output_type": "display_data"
    }
   ],
   "source": [
    "plt.plot(corr[0], corr[1])"
   ]
  },
  {
   "cell_type": "code",
   "execution_count": 15,
   "metadata": {},
   "outputs": [
    {
     "data": {
      "text/plain": [
       "(array([-9.89885826e-01, -9.86489891e-01, -9.76657756e-01, -9.52151188e-01,\n",
       "        -8.52020534e-01,  2.20920585e+01,  1.01891671e+08,  1.80293774e+08,\n",
       "         2.98749027e+08,  4.08508787e+08,  3.19928375e+08,  8.64760700e+07,\n",
       "         0.00000000e+00,  0.00000000e+00,  0.00000000e+00,  0.00000000e+00]),\n",
       " array([2.09714179e-08, 1.42984543e-08, 1.26226729e-08, 1.32766861e-08,\n",
       "        2.11761016e-08, 1.72141928e-06, 0.00000000e+00, 0.00000000e+00,\n",
       "        0.00000000e+00, 0.00000000e+00, 0.00000000e+00, 0.00000000e+00,\n",
       "        0.00000000e+00, 0.00000000e+00, 0.00000000e+00, 0.00000000e+00]))"
      ]
     },
     "execution_count": 15,
     "metadata": {},
     "output_type": "execute_result"
    }
   ],
   "source": [
    "corr"
   ]
  },
  {
   "cell_type": "code",
   "execution_count": 16,
   "metadata": {},
   "outputs": [],
   "source": [
    "bin_centers = nn.meanlogr"
   ]
  },
  {
   "cell_type": "code",
   "execution_count": 17,
   "metadata": {},
   "outputs": [
    {
     "data": {
      "text/plain": [
       "[<matplotlib.lines.Line2D at 0x1a283c2350>]"
      ]
     },
     "execution_count": 17,
     "metadata": {},
     "output_type": "execute_result"
    },
    {
     "data": {
      "image/png": "[encoded data removed]",
      "text/plain": [
       "<Figure size 432x288 with 1 Axes>"
      ]
     },
     "metadata": {
      "needs_background": "light"
     },
     "output_type": "display_data"
    }
   ],
   "source": [
    "plt.plot( math.e**(bin_centers),corr[0])"
   ]
  },
  {
   "cell_type": "code",
   "execution_count": 18,
   "metadata": {},
   "outputs": [
    {
     "data": {
      "text/plain": [
       "<matplotlib.collections.PathCollection at 0x1a1e2cc690>"
      ]
     },
     "execution_count": 18,
     "metadata": {},
     "output_type": "execute_result"
    },
    {
     "data": {
      "image/png": "[encoded data removed]",
      "text/plain": [
       "<Figure size 432x288 with 1 Axes>"
      ]
     },
     "metadata": {
      "needs_background": "light"
     },
     "output_type": "display_data"
    }
   ],
   "source": [
    "plt.scatter(catrand.ra, catrand.dec)\n",
    "plt.scatter(cat.ra, cat.dec)"
   ]
  },
  {
   "cell_type": "code",
   "execution_count": 19,
   "metadata": {},
   "outputs": [],
   "source": [
    "# All given in radians:\n",
    "ra_range = max(cat.ra) - min(cat.ra)\n",
    "dec_range = max(cat.dec) - min(cat.dec)\n",
    "ra_min = min(cat.ra)\n",
    "dec_min = min(cat.dec)"
   ]
  },
  {
   "cell_type": "code",
   "execution_count": 20,
   "metadata": {},
   "outputs": [],
   "source": [
    "rand_ra = []\n",
    "rand_dec = []\n",
    "for i in range(54900):\n",
    "    u = random()\n",
    "    v = random()\n",
    "    rand_ra.append((2*math.pi*u)*(ra_range/(2*math.pi)) + ra_min)\n",
    "    rand_dec.append((math.acos(2*v -1))*(dec_range/(math.pi)) + dec_min)"
   ]
  },
  {
   "cell_type": "code",
   "execution_count": 21,
   "metadata": {},
   "outputs": [],
   "source": [
    "nn = treecorr.NNCorrelation(nbins = 16, min_sep = 1/60, max_sep = 6)\n",
    "cat = treecorr.Catalog(ra = data['ra'], dec = data['dec'], ra_units='deg', dec_units='deg')\n",
    "nn.process(cat)\n",
    "\n",
    "rr = treecorr.NNCorrelation(nbins = 16, min_sep = 1/60, max_sep = 6)\n",
    "catrand = treecorr.Catalog(ra = rand_ra, dec = rand_dec, ra_units='rad', dec_units='rad')\n",
    "rr.process(catrand)"
   ]
  },
  {
   "cell_type": "code",
   "execution_count": 22,
   "metadata": {},
   "outputs": [
    {
     "data": {
      "text/plain": [
       "<matplotlib.collections.PathCollection at 0x1a1edeb4d0>"
      ]
     },
     "execution_count": 22,
     "metadata": {},
     "output_type": "execute_result"
    },
    {
     "data": {
      "image/png": "[encoded data removed]",
      "text/plain": [
       "<Figure size 432x288 with 1 Axes>"
      ]
     },
     "metadata": {
      "needs_background": "light"
     },
     "output_type": "display_data"
    }
   ],
   "source": [
    "plt.scatter(catrand.ra, catrand.dec)\n",
    "plt.scatter(cat.ra, cat.dec)"
   ]
  },
  {
   "cell_type": "code",
   "execution_count": 33,
   "metadata": {},
   "outputs": [
    {
     "name": "stdout",
     "output_type": "stream",
     "text": [
      "Warning: Some bins for the randoms had no pairs.\n"
     ]
    },
    {
     "data": {
      "text/plain": [
       "<matplotlib.collections.PathCollection at 0x109a49710>"
      ]
     },
     "execution_count": 33,
     "metadata": {},
     "output_type": "execute_result"
    },
    {
     "data": {
      "image/png": "[encoded data removed]",
      "text/plain": [
       "<Figure size 432x288 with 1 Axes>"
      ]
     },
     "metadata": {
      "needs_background": "light"
     },
     "output_type": "display_data"
    }
   ],
   "source": [
    "bin_centers = nn.meanlogr\n",
    "\n",
    "corr = nn.calculateXi(rr)\n",
    "plt.scatter( math.e**(bin_centers),corr[0])"
   ]
  },
  {
   "cell_type": "code",
   "execution_count": 34,
   "metadata": {},
   "outputs": [
    {
     "data": {
      "text/plain": [
       "[<matplotlib.lines.Line2D at 0x1a1f3974d0>]"
      ]
     },
     "execution_count": 34,
     "metadata": {},
     "output_type": "execute_result"
    },
    {
     "data": {
      "image/png": "[encoded data removed]",
      "text/plain": [
       "<Figure size 432x288 with 1 Axes>"
      ]
     },
     "metadata": {
      "needs_background": "light"
     },
     "output_type": "display_data"
    }
   ],
   "source": [
    "plt.plot( math.e**(bin_centers),corr[0])"
   ]
  },
  {
   "cell_type": "code",
   "execution_count": 38,
   "metadata": {},
   "outputs": [],
   "source": [
    "dr = treecorr.NNCorrelation(nbins = 16, min_sep = 1/60, max_sep = 6)\n",
    "dr.process(cat, catrand)"
   ]
  },
  {
   "cell_type": "code",
   "execution_count": 39,
   "metadata": {},
   "outputs": [
    {
     "name": "stdout",
     "output_type": "stream",
     "text": [
      "Warning: Some bins for the randoms had no pairs.\n"
     ]
    },
    {
     "data": {
      "text/plain": [
       "<matplotlib.collections.PathCollection at 0x1a1f3360d0>"
      ]
     },
     "execution_count": 39,
     "metadata": {},
     "output_type": "execute_result"
    },
    {
     "data": {
      "image/png": "[encoded data removed]",
      "text/plain": [
       "<Figure size 432x288 with 1 Axes>"
      ]
     },
     "metadata": {
      "needs_background": "light"
     },
     "output_type": "display_data"
    }
   ],
   "source": [
    "bin_centers = nn.meanlogr\n",
    "\n",
    "corr = nn.calculateXi(rr, dr)\n",
    "plt.scatter( math.e**(bin_centers),corr[0])"
   ]
  },
  {
   "cell_type": "code",
   "execution_count": 42,
   "metadata": {},
   "outputs": [
    {
     "data": {
      "text/plain": [
       "[<matplotlib.lines.Line2D at 0x1a1f94f810>]"
      ]
     },
     "execution_count": 42,
     "metadata": {},
     "output_type": "execute_result"
    },
    {
     "data": {
      "image/png": "[encoded data removed]",
      "text/plain": [
       "<Figure size 432x288 with 1 Axes>"
      ]
     },
     "metadata": {
      "needs_background": "light"
     },
     "output_type": "display_data"
    }
   ],
   "source": [
    "plt.plot( math.e**(bin_centers),corr[0])"
   ]
  },
  {
   "cell_type": "code",
   "execution_count": 47,
   "metadata": {},
   "outputs": [
    {
     "data": {
      "text/plain": [
       "[<matplotlib.lines.Line2D at 0x1a20108510>]"
      ]
     },
     "execution_count": 47,
     "metadata": {},
     "output_type": "execute_result"
    },
    {
     "data": {
      "image/png": "[encoded data removed]",
      "text/plain": [
       "<Figure size 432x288 with 1 Axes>"
      ]
     },
     "metadata": {
      "needs_background": "light"
     },
     "output_type": "display_data"
    }
   ],
   "source": [
    "# Trying log scale\n",
    "plt.semilogx(math.e**(bin_centers),corr[0])"
   ]
  },
  {
   "cell_type": "code",
   "execution_count": 51,
   "metadata": {},
   "outputs": [
    {
     "data": {
      "image/png": "[encoded data removed]",
      "text/plain": [
       "<Figure size 360x180 with 1 Axes>"
      ]
     },
     "metadata": {
      "needs_background": "light"
     },
     "output_type": "display_data"
    }
   ],
   "source": [
    "labels = ['$u-r > 2.22$\\n$N=%i$' % len(data_red),\n",
    "          '$u-r < 2.22$\\n$N=%i$' % len(data_blue)]\n",
    "\n",
    "fig = plt.figure(figsize=(5, 2.5))\n",
    "fig.subplots_adjust(bottom=0.2, top=0.9,\n",
    "                    left=0.13, right=0.95)\n",
    "for i in range(1):\n",
    "    ax = fig.add_subplot(121 + i, xscale='log', yscale='log')\n",
    "\n",
    "    #ax.errorbar(bin_centers, corr[i], corr_err[i],\n",
    "    #            fmt='.k', ecolor='gray', lw=1)\n",
    "\n",
    "    #t = np.array([0.01, 10])\n",
    "    #ax.plot(t, 10 * (t / 0.01) ** -0.8, ':k', linewidth=1)\n",
    "\n",
    "    ax.text(0.95, 0.95, labels[i],\n",
    "            ha='right', va='top', transform=ax.transAxes)\n",
    "    ax.set_xlabel(r'$\\theta\\ (deg)$')\n",
    "    if i == 0:\n",
    "        ax.set_ylabel(r'$\\hat{w}(\\theta)$')"
   ]
  },
  {
   "cell_type": "code",
   "execution_count": null,
   "metadata": {},
   "outputs": [],
   "source": []
  }
 ],
 "metadata": {
  "kernelspec": {
   "display_name": "Python 3",
   "language": "python",
   "name": "python3"
  },
  "language_info": {
   "codemirror_mode": {
    "name": "ipython",
    "version": 3
   },
   "file_extension": ".py",
   "mimetype": "text/x-python",
   "name": "python",
   "nbconvert_exporter": "python",
   "pygments_lexer": "ipython3",
   "version": "3.7.6"
  }
 },
 "nbformat": 4,
 "nbformat_minor": 4
}
