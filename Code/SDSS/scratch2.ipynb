{
 "cells": [
  {
   "cell_type": "code",
   "execution_count": 11,
   "metadata": {},
   "outputs": [],
   "source": [
    "from matplotlib import pyplot as plt\n",
    "import numpy as np\n",
    "import pandas as pd\n",
    "import astropy.table\n",
    "import math"
   ]
  },
  {
   "cell_type": "code",
   "execution_count": 12,
   "metadata": {},
   "outputs": [],
   "source": [
    "import pickle"
   ]
  },
  {
   "cell_type": "code",
   "execution_count": 13,
   "metadata": {},
   "outputs": [],
   "source": [
    "with open('treecorr_bins0_2', 'rb') as filehandle:\n",
    "    treecorr_bins0 = pickle.load(filehandle)\n",
    "    \n",
    "with open('treecorr_bins1_2', 'rb') as filehandle:\n",
    "    treecorr_bins1 = pickle.load(filehandle)\n",
    "    \n",
    "with open('treecorr_corr0_2', 'rb') as filehandle:\n",
    "    treecorr_corr0 = pickle.load(filehandle)\n",
    "\n",
    "with open('treecorr_corr1_2', 'rb') as filehandle:\n",
    "    treecorr_corr1 = pickle.load(filehandle)\n",
    "\n",
    "with open('camb_theta2', 'rb') as filehandle:\n",
    "    camb_theta2 = pickle.load(filehandle)\n",
    "\n",
    "with open('camb_w2', 'rb') as filehandle:\n",
    "    camb_w2 = pickle.load(filehandle)\n",
    "    "
   ]
  },
  {
   "cell_type": "code",
   "execution_count": 14,
   "metadata": {},
   "outputs": [
    {
     "data": {
      "text/plain": [
       "Text(0.5, 0, 'Angle log $\\\\theta$')"
      ]
     },
     "execution_count": 14,
     "metadata": {},
     "output_type": "execute_result"
    },
    {
     "data": {
      "image/png": "[encoded data removed]",
      "text/plain": [
       "<Figure size 360x180 with 1 Axes>"
      ]
     },
     "metadata": {
      "needs_background": "light"
     },
     "output_type": "display_data"
    }
   ],
   "source": [
    "fig = plt.figure(figsize=(5, 2.5))\n",
    "fig.subplots_adjust(bottom=0.2, top=0.9,\n",
    "                        left=0.13, right=0.95)\n",
    "ax = fig.add_subplot(121, xscale='log', yscale='log')\n",
    "\n",
    "ax.set_ylim([10**(-2),10])\n",
    "ax.set_yscale('log')\n",
    "\n",
    "ax.set_xlim([10**(-2),10])\n",
    "ax.set_xscale('log')\n",
    "\n",
    "plt.scatter(math.e**(treecorr_bins0), treecorr_corr0)\n",
    "#plt.scatter(math.e**(treecorr_bins1), treecorr_corr1)\n",
    "plt.scatter(camb_theta2, camb_w2)\n",
    "\n",
    "plt.title(\"Purity < 0.98 and CAMB\")\n",
    "plt.xlabel(r\"Angle log $\\theta$\")"
   ]
  },
  {
   "cell_type": "code",
   "execution_count": 16,
   "metadata": {},
   "outputs": [
    {
     "data": {
      "text/plain": [
       "array([-3.89515981, -3.52770689, -3.15952506, -2.78970453, -2.42221147,\n",
       "       -2.0542448 , -1.68545806, -1.31499274, -0.94583911, -0.57783547,\n",
       "       -0.20973047,  0.1587495 ,  0.52664818,  0.89394209,  1.26142061,\n",
       "        1.63017392])"
      ]
     },
     "execution_count": 16,
     "metadata": {},
     "output_type": "execute_result"
    }
   ],
   "source": [
    "treecorr_bins0"
   ]
  },
  {
   "cell_type": "code",
   "execution_count": 15,
   "metadata": {},
   "outputs": [
    {
     "data": {
      "text/plain": [
       "Text(0.5, 0, 'Angle log $\\\\theta$')"
      ]
     },
     "execution_count": 15,
     "metadata": {},
     "output_type": "execute_result"
    },
    {
     "data": {
      "image/png": "[encoded data removed]",
      "text/plain": [
       "<Figure size 360x180 with 1 Axes>"
      ]
     },
     "metadata": {
      "needs_background": "light"
     },
     "output_type": "display_data"
    }
   ],
   "source": [
    "fig = plt.figure(figsize=(5, 2.5))\n",
    "fig.subplots_adjust(bottom=0.2, top=0.9,\n",
    "                        left=0.13, right=0.95)\n",
    "ax = fig.add_subplot(121, xscale='log', yscale='log')\n",
    "\n",
    "ax.set_ylim([10**(-2),10])\n",
    "ax.set_yscale('log')\n",
    "\n",
    "ax.set_xlim([10**(-2),10])\n",
    "ax.set_xscale('log')\n",
    "\n",
    "#plt.scatter(math.e**(treecorr_bins0), treecorr_corr0)\n",
    "plt.scatter(math.e**(treecorr_bins1), treecorr_corr1)\n",
    "plt.scatter(camb_theta2, camb_w2)\n",
    "\n",
    "plt.title(\"Purity > 0.98 and CAMB\")\n",
    "plt.xlabel(r\"Angle log $\\theta$\")"
   ]
  },
  {
   "cell_type": "code",
   "execution_count": null,
   "metadata": {},
   "outputs": [],
   "source": []
  }
 ],
 "metadata": {
  "kernelspec": {
   "display_name": "Python 3",
   "language": "python",
   "name": "python3"
  },
  "language_info": {
   "codemirror_mode": {
    "name": "ipython",
    "version": 3
   },
   "file_extension": ".py",
   "mimetype": "text/x-python",
   "name": "python",
   "nbconvert_exporter": "python",
   "pygments_lexer": "ipython3",
   "version": "3.7.6"
  }
 },
 "nbformat": 4,
 "nbformat_minor": 4
}
