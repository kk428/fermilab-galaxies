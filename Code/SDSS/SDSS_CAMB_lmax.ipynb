{
 "cells": [
  {
   "cell_type": "code",
   "execution_count": 3,
   "metadata": {},
   "outputs": [],
   "source": [
    "import matplotlib.pyplot as plt\n",
    "%matplotlib inline\n",
    "import camb\n",
    "from camb.sources import GaussianSourceWindow, SplinedSourceWindow\n",
    "import camb.correlations\n",
    "from camb import model, initialpower\n",
    "import numpy as np\n",
    "import astropy.table\n",
    "import pandas as pd\n",
    "import pickle\n",
    "from astroML.datasets import fetch_sdss_specgals"
   ]
  },
  {
   "cell_type": "code",
   "execution_count": 36,
   "metadata": {},
   "outputs": [],
   "source": [
    "import math"
   ]
  },
  {
   "cell_type": "code",
   "execution_count": 4,
   "metadata": {},
   "outputs": [
    {
     "name": "stdout",
     "output_type": "stream",
     "text": [
      "data size:\n",
      " red gals:  38017\n",
      " blue gals: 16883\n"
     ]
    }
   ],
   "source": [
    "data = fetch_sdss_specgals()\n",
    "m_max = 17.7\n",
    "# redshift and magnitude cuts\n",
    "data = data[data['z'] > 0.08]\n",
    "data = data[data['z'] < 0.12]\n",
    "data = data[data['petroMag_r'] < m_max]\n",
    "# RA/DEC cuts\n",
    "RAmin, RAmax = 140, 220 \n",
    "DECmin, DECmax = 5, 45\n",
    "data = data[data['ra'] < RAmax] \n",
    "data = data[data['ra'] > RAmin] \n",
    "data = data[data['dec'] < DECmax] \n",
    "data = data[data['dec'] > DECmin]\n",
    "ur = data['modelMag_u'] - data['modelMag_r'] \n",
    "flag_red = (ur > 2.22)\n",
    "flag_blue = ~flag_red\n",
    "data_red = data[flag_red] \n",
    "data_blue = data[flag_blue]\n",
    "print(\"data size:\")\n",
    "print(\" red gals: \", len(data_red)) \n",
    "print(\" blue gals:\", len(data_blue))"
   ]
  },
  {
   "cell_type": "code",
   "execution_count": 5,
   "metadata": {},
   "outputs": [],
   "source": [
    "cut1 = pd.cut(data['z'], bins = 25)\n",
    "Nz = cut1.value_counts().tolist()\n",
    "\n",
    "keys1 = cut1.value_counts().keys()\n",
    "\n",
    "z = []\n",
    "for i in range(len(keys1)):\n",
    "    z.append(keys1[i].mid)"
   ]
  },
  {
   "cell_type": "code",
   "execution_count": 6,
   "metadata": {},
   "outputs": [],
   "source": [
    "#plt.hist(data['z'], bins = 100)\n",
    "\n",
    "Nz, be = np.histogram(data['z'][flag_red], bins=8, range=(0.05,0.15))"
   ]
  },
  {
   "cell_type": "code",
   "execution_count": 7,
   "metadata": {},
   "outputs": [],
   "source": [
    "def getcorr(lmax):\n",
    "    pars = camb.CAMBparams() # Set up the CAMB parameters\n",
    "    h=0.675 # Planck value for h (Hubble parameter)\n",
    "    Ob = 0.044 # Planck value for Omega_b (Baryon energy density)\n",
    "    Om = 0.31 # Planck value for Omega_m (Matter energy density)\n",
    "    Oc = Om-Ob # Value for Omega_c (Cold dark matter energy density)\n",
    "    As=2e-9 # Amplitude of initial fluctuations\n",
    "    ns=0.965 # Scalar index\n",
    "    pars.set_cosmology(H0=100*h, ombh2=Ob*h**2, omch2=Oc*h**2) # This sets the cosmological parameters\n",
    "    pars.InitPower.set_params(As=As, ns=ns) # This also sets the cosmological parameters\n",
    "    pars.set_for_lmax(lmax, lens_potential_accuracy=1) # Set the maximum ell\n",
    "    #set Want_CMB to true if you also want CMB spectra or correlations\n",
    "    pars.Want_CMB = False # We don't want the CMB\n",
    "    #NonLinear_both or NonLinear_lens will use non-linear corrections\n",
    "    pars.NonLinear = model.NonLinear_both # We want non-linear corrections\n",
    "    #Set up W(z) window functions, later labelled W1, W2.\n",
    "    zs = 0.5*(be[1:] + be[:-1]) #z # Range of zs\n",
    "    W = Nz # Window function\n",
    "    pars.SourceWindows = [SplinedSourceWindow(source_type='counts', bias=1.0, z=zs, W=W)] # Set up the window function\n",
    "    \n",
    "    results = camb.get_results(pars)\n",
    "    cls = results.get_source_cls_dict()\n",
    "    ls=  np.arange(2, lmax+1)\n",
    "    \n",
    "    angles = np.logspace(-2, 1) # Angles from 0.01 to 10 deg\n",
    "    x = np.cos(np.radians(angles)) # Convert them to radians and compute cosine to passs to CAMB\n",
    "    cls_in = np.array([cls['W1xW1'][1:lmax+1], np.zeros(lmax), np.zeros(lmax), np.zeros(lmax)]).T\n",
    "    #cl2corr needs TT (temperature/density), EE (E-mode), BB (B-mode), TE (Temperature-polarization cross correlation) -> we only care about TT\n",
    "    w_camb = camb.correlations.cl2corr(cls_in, x);\n",
    "    \n",
    "    return w_camb"
   ]
  },
  {
   "cell_type": "code",
   "execution_count": 8,
   "metadata": {},
   "outputs": [],
   "source": [
    "w_30000 = getcorr(30000)[:,0]"
   ]
  },
  {
   "cell_type": "code",
   "execution_count": 9,
   "metadata": {},
   "outputs": [],
   "source": [
    "w_15000 = getcorr(15000)[:,0]"
   ]
  },
  {
   "cell_type": "code",
   "execution_count": 10,
   "metadata": {},
   "outputs": [],
   "source": [
    "w_7500 = getcorr(7500)[:,0]"
   ]
  },
  {
   "cell_type": "code",
   "execution_count": 11,
   "metadata": {},
   "outputs": [],
   "source": [
    "w_3750 = getcorr(3750)[:,0]"
   ]
  },
  {
   "cell_type": "code",
   "execution_count": 12,
   "metadata": {},
   "outputs": [],
   "source": [
    "w_1875 = getcorr(1875)[:,0]"
   ]
  },
  {
   "cell_type": "code",
   "execution_count": 13,
   "metadata": {},
   "outputs": [],
   "source": [
    "diff_15000 = 1 - w_15000/w_30000\n",
    "diff_7500 = 1 - w_7500/w_30000\n",
    "diff_3750 = 1 - w_3750/w_30000\n",
    "diff_1875 = 1 - w_1875/w_30000"
   ]
  },
  {
   "cell_type": "code",
   "execution_count": 14,
   "metadata": {
    "scrolled": true
   },
   "outputs": [
    {
     "data": {
      "text/plain": [
       "<matplotlib.collections.LineCollection at 0x1a26fcc290>"
      ]
     },
     "execution_count": 14,
     "metadata": {},
     "output_type": "execute_result"
    },
    {
     "data": {
      "image/png": "[encoded data removed]",
      "text/plain": [
       "<Figure size 432x288 with 1 Axes>"
      ]
     },
     "metadata": {
      "needs_background": "light"
     },
     "output_type": "display_data"
    }
   ],
   "source": [
    "angles = np.logspace(-2, 1)\n",
    "plt.plot(angles, diff_1875)\n",
    "#plt.plot(angles, diff_3750)\n",
    "#plt.plot(angles, diff_7500)\n",
    "#plt.plot(angles, diff_15000)\n",
    "plt.hlines(0.01,0,12)"
   ]
  },
  {
   "cell_type": "code",
   "execution_count": 51,
   "metadata": {},
   "outputs": [
    {
     "data": {
      "text/plain": [
       "[0.00016515505226288862,\n",
       " -0.001087372721483959,\n",
       " -0.000949801591771493,\n",
       " 0.003004812292656367]"
      ]
     },
     "execution_count": 51,
     "metadata": {},
     "output_type": "execute_result"
    }
   ],
   "source": [
    "[diff_15000[-1], diff_7500[-1], diff_3750[-1], diff_1875[-1]]"
   ]
  },
  {
   "cell_type": "code",
   "execution_count": 29,
   "metadata": {},
   "outputs": [
    {
     "data": {
      "text/plain": [
       "<matplotlib.collections.LineCollection at 0x1a28162810>"
      ]
     },
     "execution_count": 29,
     "metadata": {},
     "output_type": "execute_result"
    },
    {
     "data": {
      "image/png": "[encoded data removed]",
      "text/plain": [
       "<Figure size 432x288 with 1 Axes>"
      ]
     },
     "metadata": {
      "needs_background": "light"
     },
     "output_type": "display_data"
    }
   ],
   "source": [
    "angles = np.logspace(-2, 1)\n",
    "plt.plot(angles, diff_1875)\n",
    "plt.plot(angles, diff_3750)\n",
    "plt.plot(angles, diff_7500)\n",
    "plt.plot(angles, diff_15000)\n",
    "plt.hlines(0.01,0,12)"
   ]
  },
  {
   "cell_type": "code",
   "execution_count": 31,
   "metadata": {},
   "outputs": [
    {
     "data": {
      "text/plain": [
       "array([ 0.01      ,  0.01151395,  0.01325711,  0.01526418,  0.01757511,\n",
       "        0.0202359 ,  0.02329952,  0.02682696,  0.03088844,  0.0355648 ,\n",
       "        0.04094915,  0.04714866,  0.05428675,  0.06250552,  0.07196857,\n",
       "        0.08286428,  0.09540955,  0.10985411,  0.12648552,  0.14563485,\n",
       "        0.16768329,  0.19306977,  0.22229965,  0.25595479,  0.29470517,\n",
       "        0.33932218,  0.39069399,  0.44984327,  0.51794747,  0.59636233,\n",
       "        0.68664885,  0.79060432,  0.91029818,  1.04811313,  1.20679264,\n",
       "        1.38949549,  1.59985872,  1.84206997,  2.12095089,  2.44205309,\n",
       "        2.8117687 ,  3.23745754,  3.72759372,  4.29193426,  4.94171336,\n",
       "        5.68986603,  6.55128557,  7.54312006,  8.68511374, 10.        ])"
      ]
     },
     "execution_count": 31,
     "metadata": {},
     "output_type": "execute_result"
    }
   ],
   "source": [
    "angles"
   ]
  },
  {
   "cell_type": "code",
   "execution_count": 39,
   "metadata": {},
   "outputs": [
    {
     "data": {
      "text/plain": [
       "array([1.01005017e+00, 1.01158049e+00, 1.01334538e+00, 1.01538127e+00,\n",
       "       1.01773046e+00, 1.02044203e+00, 1.02357307e+00, 1.02719004e+00,\n",
       "       1.03137043e+00, 1.03620480e+00, 1.04179913e+00, 1.04827784e+00,\n",
       "       1.05578731e+00, 1.06450033e+00, 1.07462157e+00, 1.08639435e+00,\n",
       "       1.10010931e+00, 1.11611523e+00, 1.13483302e+00, 1.15677371e+00,\n",
       "       1.18256203e+00, 1.21296742e+00, 1.24894557e+00, 1.29169433e+00,\n",
       "       1.34273042e+00, 1.40399561e+00, 1.47800617e+00, 1.56806640e+00,\n",
       "       1.67857877e+00, 1.81550258e+00, 1.98704547e+00, 2.20472839e+00,\n",
       "       2.48506341e+00, 2.85226420e+00, 3.34274605e+00, 4.01282505e+00,\n",
       "       4.95233271e+00, 6.30958540e+00, 8.33906323e+00, 1.14966202e+01,\n",
       "       1.66393221e+01, 2.54688858e+01, 4.15789371e+01, 7.31077412e+01,\n",
       "       1.40009932e+02, 2.95853982e+02, 7.00143678e+02, 1.88771062e+03,\n",
       "       5.91421313e+03, 2.20264658e+04])"
      ]
     },
     "execution_count": 39,
     "metadata": {},
     "output_type": "execute_result"
    }
   ],
   "source": [
    "math.e**angles"
   ]
  },
  {
   "cell_type": "code",
   "execution_count": 47,
   "metadata": {},
   "outputs": [
    {
     "data": {
      "text/plain": [
       "<matplotlib.legend.Legend at 0x1a291ed790>"
      ]
     },
     "execution_count": 47,
     "metadata": {},
     "output_type": "execute_result"
    },
    {
     "data": {
      "image/png": "[encoded data removed]",
      "text/plain": [
       "<Figure size 432x288 with 1 Axes>"
      ]
     },
     "metadata": {
      "needs_background": "light"
     },
     "output_type": "display_data"
    }
   ],
   "source": [
    "plt.plot(angles[:20], diff_1875[:20])\n",
    "plt.plot(angles[:20], diff_3750[:20])\n",
    "plt.plot(angles[:20], diff_7500[:20])\n",
    "plt.plot(angles[:20], diff_15000[:20])\n",
    "plt.hlines(0.01,0,0.14,linestyles='dashed')\n",
    "plt.hlines(-0.01,0,0.14,linestyles='dashed')\n",
    "plt.xlabel(r\"Angles log $\\theta$\")\n",
    "plt.legend([r'$l_{max}$ = 1875',r'$l_{max}$ = 3750',r'$l_{max}$ = 7500',r'$l_{max}$ = 15000'])"
   ]
  },
  {
   "cell_type": "code",
   "execution_count": 34,
   "metadata": {},
   "outputs": [
    {
     "data": {
      "text/plain": [
       "<matplotlib.legend.Legend at 0x1a27e66290>"
      ]
     },
     "execution_count": 34,
     "metadata": {},
     "output_type": "execute_result"
    },
    {
     "data": {
      "image/png": "[encoded data removed]",
      "text/plain": [
       "<Figure size 432x288 with 1 Axes>"
      ]
     },
     "metadata": {
      "needs_background": "light"
     },
     "output_type": "display_data"
    }
   ],
   "source": [
    "plt.plot(angles, diff_1875)\n",
    "plt.plot(angles, diff_3750)\n",
    "plt.plot(angles, diff_7500)\n",
    "plt.plot(angles, diff_15000)\n",
    "plt.hlines(0.01,0,12,linestyles='dashed')\n",
    "plt.hlines(-0.01,0,12,linestyles='dashed')\n",
    "plt.xlabel(r\"Angles log $\\theta$\")\n",
    "plt.legend([r'$l_{max}$ = 1875',r'$l_{max}$ = 3750',r'$l_{max}$ = 7500',r'$l_{max}$ = 15000'])"
   ]
  },
  {
   "cell_type": "code",
   "execution_count": null,
   "metadata": {},
   "outputs": [],
   "source": []
  }
 ],
 "metadata": {
  "kernelspec": {
   "display_name": "Python 3",
   "language": "python",
   "name": "python3"
  },
  "language_info": {
   "codemirror_mode": {
    "name": "ipython",
    "version": 3
   },
   "file_extension": ".py",
   "mimetype": "text/x-python",
   "name": "python",
   "nbconvert_exporter": "python",
   "pygments_lexer": "ipython3",
   "version": "3.7.6"
  }
 },
 "nbformat": 4,
 "nbformat_minor": 4
}
