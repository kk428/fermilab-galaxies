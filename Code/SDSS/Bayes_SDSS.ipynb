{
 "cells": [
  {
   "cell_type": "code",
   "execution_count": 1,
   "metadata": {},
   "outputs": [],
   "source": [
    "#from mls import Learn\n",
    "%matplotlib inline\n",
    "import matplotlib.pyplot as plt\n",
    "import seaborn as sns; sns.set()\n",
    "import numpy as np\n",
    "import pandas as pd\n",
    "import scipy.stats\n",
    "\n",
    "import SDSS_CAMB as scamb\n",
    "\n",
    "import emcee\n",
    "import corner"
   ]
  },
  {
   "cell_type": "code",
   "execution_count": 2,
   "metadata": {},
   "outputs": [],
   "source": [
    "def log_prior(theta):\n",
    "    b, Om = theta\n",
    "    if 0.6 < b < 4 and 0.0 < Om < 1.0 :\n",
    "        return 0.0\n",
    "    return -np.inf"
   ]
  },
  {
   "cell_type": "code",
   "execution_count": 3,
   "metadata": {},
   "outputs": [],
   "source": [
    "def log_likelihood(theta, corr_tree, data, centers):\n",
    "    corr_camb = scamb.getcorrCAMB(theta, data, centers)[:,0]\n",
    "    return -0.5*np.einsum('i,i',(corr_tree- theta[0]**2*corr_camb), \n",
    "                          np.einsum('ij,j', inv_cov,(corr_tree- theta[0]**2*corr_camb)))"
   ]
  },
  {
   "cell_type": "code",
   "execution_count": 4,
   "metadata": {},
   "outputs": [],
   "source": [
    "def log_probability(theta, corr_tree, data, centers):\n",
    "    lp = log_prior(theta)\n",
    "    if not np.isfinite(lp):\n",
    "        return -np.inf\n",
    "    return lp + log_likelihood(theta, corr_tree, data, centers)"
   ]
  },
  {
   "cell_type": "code",
   "execution_count": 5,
   "metadata": {},
   "outputs": [],
   "source": [
    "data = scamb.getdata()[0]\n",
    "corr_tree, centers, cov = scamb.getcorrTree(data)\n",
    "corr_tree = corr_tree[0]\n",
    "inv_cov = np.linalg.inv(cov)"
   ]
  },
  {
   "cell_type": "code",
   "execution_count": 6,
   "metadata": {},
   "outputs": [
    {
     "name": "stderr",
     "output_type": "stream",
     "text": [
      " 40%|████      | 40/100 [3:52:34<5:39:51, 339.86s/it]Traceback (most recent call last):\n",
      "  File \"/Users/kasia/opt/anaconda3/lib/python3.7/site-packages/emcee/ensemble.py\", line 545, in __call__\n",
      "    return self.f(x, *self.args, **self.kwargs)\n",
      "  File \"<ipython-input-4-eeb19e79da6c>\", line 5, in log_probability\n",
      "    return lp + log_likelihood(theta, corr_tree, data, centers)\n",
      "  File \"<ipython-input-3-25f985141f9b>\", line 2, in log_likelihood\n",
      "    corr_camb = scamb.getcorrCAMB(theta, data, centers)[:,0]\n",
      "  File \"/Users/kasia/Documents/Fermilab/Code/SDSS_CAMB.py\", line 69, in getcorrCAMB\n",
      "  File \"/Users/kasia/opt/anaconda3/lib/python3.7/site-packages/camb/camb.py\", line 35, in get_results\n",
      "    res.calc_power_spectra(params)\n",
      "  File \"/Users/kasia/opt/anaconda3/lib/python3.7/site-packages/camb/results.py\", line 329, in calc_power_spectra\n",
      "    self.calc_transfers(params, only_transfers=False)\n",
      "  File \"/Users/kasia/opt/anaconda3/lib/python3.7/site-packages/camb/results.py\", line 311, in calc_transfers\n",
      "    config.check_global_error('calc_transfer')\n",
      "  File \"/Users/kasia/opt/anaconda3/lib/python3.7/site-packages/camb/_config.py\", line 51, in check_global_error\n",
      "    raise CAMBError(reference + '%s' % err)\n",
      "camb.baseconfig.CAMBError: Error in Fortran called from calc_transfer:\n",
      "HMCode INTEGRATE, Integration timed out\n",
      " 40%|████      | 40/100 [3:53:02<5:49:34, 349.57s/it]"
     ]
    },
    {
     "name": "stdout",
     "output_type": "stream",
     "text": [
      "emcee: Exception while calling your likelihood function:\n",
      "  params: [1.56544464 0.00875293]\n",
      "  args: (array([4.35095137, 2.90159325, 2.26082863, 1.67788565, 1.28952642,\n",
      "       0.97266608, 0.71857153, 0.55687309, 0.42686   , 0.33154558,\n",
      "       0.2611849 , 0.20134321, 0.15238437, 0.10526043, 0.06261832,\n",
      "       0.03283986]), array([(150.22379435,  5.12545929, 52289,  572, 527, 0.08229865, 1.09449775e-05, 1.0795413 , 123.85066, 11.969331 , 0.05899372, 17.289747, 18.715635, 0.01883909, 19.422052, 0.04537158, 17.997215, 0.00755381, 17.292957, 0.00595275, 16.858252, 0.0058341 , 16.570578, 0.01342333, 2.3000965, 5.6816587, 54.939075, 2.1512737, 137.23776 , 2.6729784, 13.409038 , 2.1168637, 29.356264 ,  2.030231 ,  6.802976 , 2.172124 , 1.6132361, 0.02440806, 1, 10.357848,  1.4987351e-01, 1237658422475817069,  644159645774014464),\n",
      "       (151.11106345,  5.05879219, 52325,  573, 372, 0.1120238 , 2.28918270e-05, 0.94894624, 169.00728, 11.339963 , 0.04278324, 17.325699, 18.497538, 0.01764022, 19.870358, 0.05560812, 18.03765 , 0.00780756, 17.160337, 0.0053934 , 16.74784 , 0.00522917, 16.430792, 0.0109913 , 1.6973821, 3.9038684, 27.92033 , 2.9964058,  50.070778, 3.1651907, 10.85206  , 2.7598405,  7.1289897,  2.3995864,  2.4942124, 2.489931 , 1.8663949, 0.02830039, 2, 10.727929, -3.3651841e-01, 1237658297920192545,  645242940209260544),\n",
      "       (152.05986128,  5.19954477, 52325,  573, 442, 0.10850514, 2.19710237e-05, 0.9782391 , 146.70343, 18.032534 , 0.05853181, 17.453987, 19.030832, 0.02400222, 20.06495 , 0.07292078, 18.429497, 0.01021499, 17.5419  , 0.00685738, 17.031013, 0.00628197, 16.673088, 0.01353684, 2.6798453, 6.6650453, 39.866062, 2.7802505,  81.71557 , 3.5455997, 11.22848  , 2.6580667, 15.453298 ,  2.465593 ,  3.794507 , 2.6988566, 1.6390876, 0.04078778, 2, 10.784203,  7.9541296e-02, 1237658297920585882,  645262181662746624),\n",
      "       ...,\n",
      "       (164.26128478,  9.47118893, 54498, 2886, 560, 0.08993116, 1.55804591e-05, 0.97429633, 132.46698,  5.4562483, 0.0806825 , 15.90723 , 17.96418 , 0.02194626, 18.344187, 0.03460479, 16.5179  , 0.00436522, 15.608755, 0.00338057, 15.218384, 0.00329303, 14.812923, 0.0068414 , 3.4245703, 8.377477 , 27.581114, 3.1521637,  47.036114, 3.4706464, 15.69333  , 2.8976178,  0.       , -0.7846535, -3.592913 , 2.2427762, 1.5956895, 0.01135747, 2, 10.786508, -9.9990000e+03, 1237658492809445470, 3249501138239645696),\n",
      "       (164.29429782,  9.40094749, 54498, 2886, 598, 0.08782855, 1.25039896e-05, 1.9831554 , 850.     , -3.       , 0.08151001, 17.067305, 19.01447 , 0.02140887, 19.389463, 0.05504912, 17.75611 , 0.00702962, 17.087332, 0.00598738, 16.690458, 0.00576814, 16.428146, 0.01569466, 2.9329128, 6.893522 , 34.069756, 1.5061166,  79.89662 , 1.9757174,  4.4453115, 1.353358 , 11.376201 ,  1.3230672, -5.043003 , 1.3817259, 1.4699924, 0.01248237, 2, 10.368744, -9.9990000e+03, 1237658492809445490, 3249511583600109568),\n",
      "       (164.34472246, 10.22957562, 54498, 2886, 615, 0.08743554, 1.31186262e-05, 1.2497861 ,  68.90591, 20.46327  , 0.07391738, 17.460335, 19.826756, 0.02417541, 18.986229, 0.05169779, 17.922916, 0.00958313, 17.45957 , 0.00922883, 17.165297, 0.01029752, 16.984125, 0.0292    , 3.7994108, 7.9015102, 18.914253, 1.228116 ,  58.467716, 1.6487606,  3.5306695, 1.2987483, 15.835857 ,  1.3870622,  2.97929  , 1.5105   , 1.4288142, 0.02837772, 2, 10.227246, -9.9990000e+03, 1237658493883252912, 3249516256524527616)],\n",
      "      dtype=[('ra', '<f8'), ('dec', '<f8'), ('mjd', '<i4'), ('plate', '<i2'), ('fiberID', '<i2'), ('z', '<f4'), ('zErr', '<f4'), ('rChi2', '<f4'), ('velDisp', '<f4'), ('velDispErr', '<f4'), ('extinction_r', '<f4'), ('petroMag_r', '<f4'), ('psfMag_r', '<f4'), ('psfMagErr_r', '<f4'), ('modelMag_u', '<f4'), ('modelMagErr_u', '<f4'), ('modelMag_g', '<f4'), ('modelMagErr_g', '<f4'), ('modelMag_r', '<f4'), ('modelMagErr_r', '<f4'), ('modelMag_i', '<f4'), ('modelMagErr_i', '<f4'), ('modelMag_z', '<f4'), ('modelMagErr_z', '<f4'), ('petroR50_r', '<f4'), ('petroR90_r', '<f4'), ('nii_6584_flux', '<f4'), ('nii_6584_flux_err', '<f4'), ('h_alpha_flux', '<f4'), ('h_alpha_flux_err', '<f4'), ('oiii_5007_flux', '<f4'), ('oiii_5007_flux_err', '<f4'), ('h_beta_flux', '<f4'), ('h_beta_flux_err', '<f4'), ('h_delta_flux', '<f4'), ('h_delta_flux_err', '<f4'), ('d4000', '<f4'), ('d4000_err', '<f4'), ('bptclass', '<i2'), ('lgm_tot_p50', '<f4'), ('sfr_tot_p50', '<f4'), ('objID', '<i8'), ('specObjID', '<i8')]), array([0.02031727, 0.02934323, 0.04246443, 0.06149127, 0.08879382,\n",
      "       0.12848369, 0.18565653, 0.26873479, 0.3884924 , 0.5614771 ,\n",
      "       0.81083423, 1.17197961, 1.69319197, 2.4457309 , 3.53210277,\n",
      "       5.10552206]))\n",
      "  kwargs: {}\n",
      "  exception:\n"
     ]
    },
    {
     "name": "stderr",
     "output_type": "stream",
     "text": [
      "\n"
     ]
    },
    {
     "ename": "CAMBError",
     "evalue": "Error in Fortran called from calc_transfer:\nHMCode INTEGRATE, Integration timed out",
     "output_type": "error",
     "traceback": [
      "\u001b[0;31m---------------------------------------------------------------------------\u001b[0m",
      "\u001b[0;31mCAMBError\u001b[0m                                 Traceback (most recent call last)",
      "\u001b[0;32m<ipython-input-6-edb028ff358d>\u001b[0m in \u001b[0;36m<module>\u001b[0;34m\u001b[0m\n\u001b[1;32m      3\u001b[0m \u001b[0;34m\u001b[0m\u001b[0m\n\u001b[1;32m      4\u001b[0m \u001b[0msampler\u001b[0m \u001b[0;34m=\u001b[0m \u001b[0memcee\u001b[0m\u001b[0;34m.\u001b[0m\u001b[0mEnsembleSampler\u001b[0m\u001b[0;34m(\u001b[0m\u001b[0mnwalkers\u001b[0m\u001b[0;34m,\u001b[0m \u001b[0mndim\u001b[0m\u001b[0;34m,\u001b[0m \u001b[0mlog_probability\u001b[0m\u001b[0;34m,\u001b[0m \u001b[0margs\u001b[0m \u001b[0;34m=\u001b[0m \u001b[0;34m(\u001b[0m\u001b[0mcorr_tree\u001b[0m\u001b[0;34m,\u001b[0m \u001b[0mdata\u001b[0m\u001b[0;34m,\u001b[0m \u001b[0mcenters\u001b[0m\u001b[0;34m)\u001b[0m\u001b[0;34m)\u001b[0m\u001b[0;34m\u001b[0m\u001b[0;34m\u001b[0m\u001b[0m\n\u001b[0;32m----> 5\u001b[0;31m \u001b[0msampler\u001b[0m\u001b[0;34m.\u001b[0m\u001b[0mrun_mcmc\u001b[0m\u001b[0;34m(\u001b[0m\u001b[0mpos\u001b[0m\u001b[0;34m,\u001b[0m \u001b[0;36m100\u001b[0m\u001b[0;34m,\u001b[0m \u001b[0mprogress\u001b[0m\u001b[0;34m=\u001b[0m\u001b[0;32mTrue\u001b[0m\u001b[0;34m)\u001b[0m\u001b[0;34m;\u001b[0m\u001b[0;34m\u001b[0m\u001b[0;34m\u001b[0m\u001b[0m\n\u001b[0m",
      "\u001b[0;32m~/opt/anaconda3/lib/python3.7/site-packages/emcee/ensemble.py\u001b[0m in \u001b[0;36mrun_mcmc\u001b[0;34m(self, initial_state, nsteps, **kwargs)\u001b[0m\n\u001b[1;32m    382\u001b[0m \u001b[0;34m\u001b[0m\u001b[0m\n\u001b[1;32m    383\u001b[0m         \u001b[0mresults\u001b[0m \u001b[0;34m=\u001b[0m \u001b[0;32mNone\u001b[0m\u001b[0;34m\u001b[0m\u001b[0;34m\u001b[0m\u001b[0m\n\u001b[0;32m--> 384\u001b[0;31m         \u001b[0;32mfor\u001b[0m \u001b[0mresults\u001b[0m \u001b[0;32min\u001b[0m \u001b[0mself\u001b[0m\u001b[0;34m.\u001b[0m\u001b[0msample\u001b[0m\u001b[0;34m(\u001b[0m\u001b[0minitial_state\u001b[0m\u001b[0;34m,\u001b[0m \u001b[0miterations\u001b[0m\u001b[0;34m=\u001b[0m\u001b[0mnsteps\u001b[0m\u001b[0;34m,\u001b[0m \u001b[0;34m**\u001b[0m\u001b[0mkwargs\u001b[0m\u001b[0;34m)\u001b[0m\u001b[0;34m:\u001b[0m\u001b[0;34m\u001b[0m\u001b[0;34m\u001b[0m\u001b[0m\n\u001b[0m\u001b[1;32m    385\u001b[0m             \u001b[0;32mpass\u001b[0m\u001b[0;34m\u001b[0m\u001b[0;34m\u001b[0m\u001b[0m\n\u001b[1;32m    386\u001b[0m \u001b[0;34m\u001b[0m\u001b[0m\n",
      "\u001b[0;32m~/opt/anaconda3/lib/python3.7/site-packages/emcee/ensemble.py\u001b[0m in \u001b[0;36msample\u001b[0;34m(self, initial_state, log_prob0, rstate0, blobs0, iterations, tune, skip_initial_state_check, thin_by, thin, store, progress)\u001b[0m\n\u001b[1;32m    341\u001b[0m \u001b[0;34m\u001b[0m\u001b[0m\n\u001b[1;32m    342\u001b[0m                     \u001b[0;31m# Propose\u001b[0m\u001b[0;34m\u001b[0m\u001b[0;34m\u001b[0m\u001b[0;34m\u001b[0m\u001b[0m\n\u001b[0;32m--> 343\u001b[0;31m                     \u001b[0mstate\u001b[0m\u001b[0;34m,\u001b[0m \u001b[0maccepted\u001b[0m \u001b[0;34m=\u001b[0m \u001b[0mmove\u001b[0m\u001b[0;34m.\u001b[0m\u001b[0mpropose\u001b[0m\u001b[0;34m(\u001b[0m\u001b[0mmodel\u001b[0m\u001b[0;34m,\u001b[0m \u001b[0mstate\u001b[0m\u001b[0;34m)\u001b[0m\u001b[0;34m\u001b[0m\u001b[0;34m\u001b[0m\u001b[0m\n\u001b[0m\u001b[1;32m    344\u001b[0m                     \u001b[0mstate\u001b[0m\u001b[0;34m.\u001b[0m\u001b[0mrandom_state\u001b[0m \u001b[0;34m=\u001b[0m \u001b[0mself\u001b[0m\u001b[0;34m.\u001b[0m\u001b[0mrandom_state\u001b[0m\u001b[0;34m\u001b[0m\u001b[0;34m\u001b[0m\u001b[0m\n\u001b[1;32m    345\u001b[0m \u001b[0;34m\u001b[0m\u001b[0m\n",
      "\u001b[0;32m~/opt/anaconda3/lib/python3.7/site-packages/emcee/moves/red_blue.py\u001b[0m in \u001b[0;36mpropose\u001b[0;34m(self, model, state)\u001b[0m\n\u001b[1;32m     91\u001b[0m \u001b[0;34m\u001b[0m\u001b[0m\n\u001b[1;32m     92\u001b[0m             \u001b[0;31m# Compute the lnprobs of the proposed position.\u001b[0m\u001b[0;34m\u001b[0m\u001b[0;34m\u001b[0m\u001b[0;34m\u001b[0m\u001b[0m\n\u001b[0;32m---> 93\u001b[0;31m             \u001b[0mnew_log_probs\u001b[0m\u001b[0;34m,\u001b[0m \u001b[0mnew_blobs\u001b[0m \u001b[0;34m=\u001b[0m \u001b[0mmodel\u001b[0m\u001b[0;34m.\u001b[0m\u001b[0mcompute_log_prob_fn\u001b[0m\u001b[0;34m(\u001b[0m\u001b[0mq\u001b[0m\u001b[0;34m)\u001b[0m\u001b[0;34m\u001b[0m\u001b[0;34m\u001b[0m\u001b[0m\n\u001b[0m\u001b[1;32m     94\u001b[0m \u001b[0;34m\u001b[0m\u001b[0m\n\u001b[1;32m     95\u001b[0m             \u001b[0;31m# Loop over the walkers and update them accordingly.\u001b[0m\u001b[0;34m\u001b[0m\u001b[0;34m\u001b[0m\u001b[0;34m\u001b[0m\u001b[0m\n",
      "\u001b[0;32m~/opt/anaconda3/lib/python3.7/site-packages/emcee/ensemble.py\u001b[0m in \u001b[0;36mcompute_log_prob\u001b[0;34m(self, coords)\u001b[0m\n\u001b[1;32m    425\u001b[0m                 \u001b[0mmap_func\u001b[0m \u001b[0;34m=\u001b[0m \u001b[0mmap\u001b[0m\u001b[0;34m\u001b[0m\u001b[0;34m\u001b[0m\u001b[0m\n\u001b[1;32m    426\u001b[0m             results = list(\n\u001b[0;32m--> 427\u001b[0;31m                 \u001b[0mmap_func\u001b[0m\u001b[0;34m(\u001b[0m\u001b[0mself\u001b[0m\u001b[0;34m.\u001b[0m\u001b[0mlog_prob_fn\u001b[0m\u001b[0;34m,\u001b[0m \u001b[0;34m(\u001b[0m\u001b[0mp\u001b[0m\u001b[0;34m[\u001b[0m\u001b[0mi\u001b[0m\u001b[0;34m]\u001b[0m \u001b[0;32mfor\u001b[0m \u001b[0mi\u001b[0m \u001b[0;32min\u001b[0m \u001b[0mrange\u001b[0m\u001b[0;34m(\u001b[0m\u001b[0mlen\u001b[0m\u001b[0;34m(\u001b[0m\u001b[0mp\u001b[0m\u001b[0;34m)\u001b[0m\u001b[0;34m)\u001b[0m\u001b[0;34m)\u001b[0m\u001b[0;34m)\u001b[0m\u001b[0;34m\u001b[0m\u001b[0;34m\u001b[0m\u001b[0m\n\u001b[0m\u001b[1;32m    428\u001b[0m             )\n\u001b[1;32m    429\u001b[0m \u001b[0;34m\u001b[0m\u001b[0m\n",
      "\u001b[0;32m~/opt/anaconda3/lib/python3.7/site-packages/emcee/ensemble.py\u001b[0m in \u001b[0;36m__call__\u001b[0;34m(self, x)\u001b[0m\n\u001b[1;32m    543\u001b[0m     \u001b[0;32mdef\u001b[0m \u001b[0m__call__\u001b[0m\u001b[0;34m(\u001b[0m\u001b[0mself\u001b[0m\u001b[0;34m,\u001b[0m \u001b[0mx\u001b[0m\u001b[0;34m)\u001b[0m\u001b[0;34m:\u001b[0m\u001b[0;34m\u001b[0m\u001b[0;34m\u001b[0m\u001b[0m\n\u001b[1;32m    544\u001b[0m         \u001b[0;32mtry\u001b[0m\u001b[0;34m:\u001b[0m\u001b[0;34m\u001b[0m\u001b[0;34m\u001b[0m\u001b[0m\n\u001b[0;32m--> 545\u001b[0;31m             \u001b[0;32mreturn\u001b[0m \u001b[0mself\u001b[0m\u001b[0;34m.\u001b[0m\u001b[0mf\u001b[0m\u001b[0;34m(\u001b[0m\u001b[0mx\u001b[0m\u001b[0;34m,\u001b[0m \u001b[0;34m*\u001b[0m\u001b[0mself\u001b[0m\u001b[0;34m.\u001b[0m\u001b[0margs\u001b[0m\u001b[0;34m,\u001b[0m \u001b[0;34m**\u001b[0m\u001b[0mself\u001b[0m\u001b[0;34m.\u001b[0m\u001b[0mkwargs\u001b[0m\u001b[0;34m)\u001b[0m\u001b[0;34m\u001b[0m\u001b[0;34m\u001b[0m\u001b[0m\n\u001b[0m\u001b[1;32m    546\u001b[0m         \u001b[0;32mexcept\u001b[0m\u001b[0;34m:\u001b[0m  \u001b[0;31m# pragma: no cover\u001b[0m\u001b[0;34m\u001b[0m\u001b[0;34m\u001b[0m\u001b[0m\n\u001b[1;32m    547\u001b[0m             \u001b[0;32mimport\u001b[0m \u001b[0mtraceback\u001b[0m\u001b[0;34m\u001b[0m\u001b[0;34m\u001b[0m\u001b[0m\n",
      "\u001b[0;32m<ipython-input-4-eeb19e79da6c>\u001b[0m in \u001b[0;36mlog_probability\u001b[0;34m(theta, corr_tree, data, centers)\u001b[0m\n\u001b[1;32m      3\u001b[0m     \u001b[0;32mif\u001b[0m \u001b[0;32mnot\u001b[0m \u001b[0mnp\u001b[0m\u001b[0;34m.\u001b[0m\u001b[0misfinite\u001b[0m\u001b[0;34m(\u001b[0m\u001b[0mlp\u001b[0m\u001b[0;34m)\u001b[0m\u001b[0;34m:\u001b[0m\u001b[0;34m\u001b[0m\u001b[0;34m\u001b[0m\u001b[0m\n\u001b[1;32m      4\u001b[0m         \u001b[0;32mreturn\u001b[0m \u001b[0;34m-\u001b[0m\u001b[0mnp\u001b[0m\u001b[0;34m.\u001b[0m\u001b[0minf\u001b[0m\u001b[0;34m\u001b[0m\u001b[0;34m\u001b[0m\u001b[0m\n\u001b[0;32m----> 5\u001b[0;31m     \u001b[0;32mreturn\u001b[0m \u001b[0mlp\u001b[0m \u001b[0;34m+\u001b[0m \u001b[0mlog_likelihood\u001b[0m\u001b[0;34m(\u001b[0m\u001b[0mtheta\u001b[0m\u001b[0;34m,\u001b[0m \u001b[0mcorr_tree\u001b[0m\u001b[0;34m,\u001b[0m \u001b[0mdata\u001b[0m\u001b[0;34m,\u001b[0m \u001b[0mcenters\u001b[0m\u001b[0;34m)\u001b[0m\u001b[0;34m\u001b[0m\u001b[0;34m\u001b[0m\u001b[0m\n\u001b[0m",
      "\u001b[0;32m<ipython-input-3-25f985141f9b>\u001b[0m in \u001b[0;36mlog_likelihood\u001b[0;34m(theta, corr_tree, data, centers)\u001b[0m\n\u001b[1;32m      1\u001b[0m \u001b[0;32mdef\u001b[0m \u001b[0mlog_likelihood\u001b[0m\u001b[0;34m(\u001b[0m\u001b[0mtheta\u001b[0m\u001b[0;34m,\u001b[0m \u001b[0mcorr_tree\u001b[0m\u001b[0;34m,\u001b[0m \u001b[0mdata\u001b[0m\u001b[0;34m,\u001b[0m \u001b[0mcenters\u001b[0m\u001b[0;34m)\u001b[0m\u001b[0;34m:\u001b[0m\u001b[0;34m\u001b[0m\u001b[0;34m\u001b[0m\u001b[0m\n\u001b[0;32m----> 2\u001b[0;31m     \u001b[0mcorr_camb\u001b[0m \u001b[0;34m=\u001b[0m \u001b[0mscamb\u001b[0m\u001b[0;34m.\u001b[0m\u001b[0mgetcorrCAMB\u001b[0m\u001b[0;34m(\u001b[0m\u001b[0mtheta\u001b[0m\u001b[0;34m,\u001b[0m \u001b[0mdata\u001b[0m\u001b[0;34m,\u001b[0m \u001b[0mcenters\u001b[0m\u001b[0;34m)\u001b[0m\u001b[0;34m[\u001b[0m\u001b[0;34m:\u001b[0m\u001b[0;34m,\u001b[0m\u001b[0;36m0\u001b[0m\u001b[0;34m]\u001b[0m\u001b[0;34m\u001b[0m\u001b[0;34m\u001b[0m\u001b[0m\n\u001b[0m\u001b[1;32m      3\u001b[0m     return -0.5*np.einsum('i,i',(corr_tree- theta[0]**2*corr_camb), \n\u001b[1;32m      4\u001b[0m                           np.einsum('ij,j', inv_cov,(corr_tree- theta[0]**2*corr_camb)))\n",
      "\u001b[0;32m~/Documents/Fermilab/Code/SDSS_CAMB.py\u001b[0m in \u001b[0;36mgetcorrCAMB\u001b[0;34m(theta, data, centers)\u001b[0m\n",
      "\u001b[0;32m~/opt/anaconda3/lib/python3.7/site-packages/camb/camb.py\u001b[0m in \u001b[0;36mget_results\u001b[0;34m(params)\u001b[0m\n\u001b[1;32m     33\u001b[0m     \u001b[0;32mif\u001b[0m \u001b[0m_debug_params\u001b[0m\u001b[0;34m:\u001b[0m\u001b[0;34m\u001b[0m\u001b[0;34m\u001b[0m\u001b[0m\n\u001b[1;32m     34\u001b[0m         \u001b[0mprint\u001b[0m\u001b[0;34m(\u001b[0m\u001b[0mparams\u001b[0m\u001b[0;34m)\u001b[0m\u001b[0;34m\u001b[0m\u001b[0;34m\u001b[0m\u001b[0m\n\u001b[0;32m---> 35\u001b[0;31m     \u001b[0mres\u001b[0m\u001b[0;34m.\u001b[0m\u001b[0mcalc_power_spectra\u001b[0m\u001b[0;34m(\u001b[0m\u001b[0mparams\u001b[0m\u001b[0;34m)\u001b[0m\u001b[0;34m\u001b[0m\u001b[0;34m\u001b[0m\u001b[0m\n\u001b[0m\u001b[1;32m     36\u001b[0m     \u001b[0;32mreturn\u001b[0m \u001b[0mres\u001b[0m\u001b[0;34m\u001b[0m\u001b[0;34m\u001b[0m\u001b[0m\n\u001b[1;32m     37\u001b[0m \u001b[0;34m\u001b[0m\u001b[0m\n",
      "\u001b[0;32m~/opt/anaconda3/lib/python3.7/site-packages/camb/results.py\u001b[0m in \u001b[0;36mcalc_power_spectra\u001b[0;34m(self, params)\u001b[0m\n\u001b[1;32m    327\u001b[0m         \"\"\"\n\u001b[1;32m    328\u001b[0m         \u001b[0;32mif\u001b[0m \u001b[0mparams\u001b[0m \u001b[0;32mis\u001b[0m \u001b[0;32mnot\u001b[0m \u001b[0;32mNone\u001b[0m\u001b[0;34m:\u001b[0m\u001b[0;34m\u001b[0m\u001b[0;34m\u001b[0m\u001b[0m\n\u001b[0;32m--> 329\u001b[0;31m             \u001b[0mself\u001b[0m\u001b[0;34m.\u001b[0m\u001b[0mcalc_transfers\u001b[0m\u001b[0;34m(\u001b[0m\u001b[0mparams\u001b[0m\u001b[0;34m,\u001b[0m \u001b[0monly_transfers\u001b[0m\u001b[0;34m=\u001b[0m\u001b[0;32mFalse\u001b[0m\u001b[0;34m)\u001b[0m\u001b[0;34m\u001b[0m\u001b[0;34m\u001b[0m\u001b[0m\n\u001b[0m\u001b[1;32m    330\u001b[0m         \u001b[0;32melse\u001b[0m\u001b[0;34m:\u001b[0m\u001b[0;34m\u001b[0m\u001b[0;34m\u001b[0m\u001b[0m\n\u001b[1;32m    331\u001b[0m             \u001b[0mself\u001b[0m\u001b[0;34m.\u001b[0m\u001b[0m_check_powers\u001b[0m\u001b[0;34m(\u001b[0m\u001b[0;34m)\u001b[0m\u001b[0;34m\u001b[0m\u001b[0;34m\u001b[0m\u001b[0m\n",
      "\u001b[0;32m~/opt/anaconda3/lib/python3.7/site-packages/camb/results.py\u001b[0m in \u001b[0;36mcalc_transfers\u001b[0;34m(self, params, only_transfers, only_time_sources)\u001b[0m\n\u001b[1;32m    309\u001b[0m         if CAMBdata_gettransfers(byref(self), byref(params), byref(c_int(1 if only_transfers else 0)),\n\u001b[1;32m    310\u001b[0m                                  byref(c_int(1 if only_time_sources else 0))):\n\u001b[0;32m--> 311\u001b[0;31m             \u001b[0mconfig\u001b[0m\u001b[0;34m.\u001b[0m\u001b[0mcheck_global_error\u001b[0m\u001b[0;34m(\u001b[0m\u001b[0;34m'calc_transfer'\u001b[0m\u001b[0;34m)\u001b[0m\u001b[0;34m\u001b[0m\u001b[0;34m\u001b[0m\u001b[0m\n\u001b[0m\u001b[1;32m    312\u001b[0m \u001b[0;34m\u001b[0m\u001b[0m\n\u001b[1;32m    313\u001b[0m     \u001b[0;32mdef\u001b[0m \u001b[0m_check_powers\u001b[0m\u001b[0;34m(\u001b[0m\u001b[0mself\u001b[0m\u001b[0;34m,\u001b[0m \u001b[0mparams\u001b[0m\u001b[0;34m=\u001b[0m\u001b[0;32mNone\u001b[0m\u001b[0;34m)\u001b[0m\u001b[0;34m:\u001b[0m\u001b[0;34m\u001b[0m\u001b[0;34m\u001b[0m\u001b[0m\n",
      "\u001b[0;32m~/opt/anaconda3/lib/python3.7/site-packages/camb/_config.py\u001b[0m in \u001b[0;36mcheck_global_error\u001b[0;34m(self, reference)\u001b[0m\n\u001b[1;32m     49\u001b[0m                 \u001b[0mreference\u001b[0m \u001b[0;34m=\u001b[0m \u001b[0;34m''\u001b[0m\u001b[0;34m\u001b[0m\u001b[0;34m\u001b[0m\u001b[0m\n\u001b[1;32m     50\u001b[0m             \u001b[0;32mif\u001b[0m \u001b[0merr\u001b[0m\u001b[0;34m:\u001b[0m\u001b[0;34m\u001b[0m\u001b[0;34m\u001b[0m\u001b[0m\n\u001b[0;32m---> 51\u001b[0;31m                 \u001b[0;32mraise\u001b[0m \u001b[0mCAMBError\u001b[0m\u001b[0;34m(\u001b[0m\u001b[0mreference\u001b[0m \u001b[0;34m+\u001b[0m \u001b[0;34m'%s'\u001b[0m \u001b[0;34m%\u001b[0m \u001b[0merr\u001b[0m\u001b[0;34m)\u001b[0m\u001b[0;34m\u001b[0m\u001b[0;34m\u001b[0m\u001b[0m\n\u001b[0m\u001b[1;32m     52\u001b[0m             \u001b[0;32melse\u001b[0m\u001b[0;34m:\u001b[0m\u001b[0;34m\u001b[0m\u001b[0;34m\u001b[0m\u001b[0m\n\u001b[1;32m     53\u001b[0m                 \u001b[0;32mraise\u001b[0m \u001b[0mCAMBError\u001b[0m\u001b[0;34m(\u001b[0m\u001b[0mreference\u001b[0m \u001b[0;34m+\u001b[0m \u001b[0;34m'Error code: %s'\u001b[0m \u001b[0;34m%\u001b[0m \u001b[0mcode\u001b[0m\u001b[0;34m)\u001b[0m\u001b[0;34m\u001b[0m\u001b[0;34m\u001b[0m\u001b[0m\n",
      "\u001b[0;31mCAMBError\u001b[0m: Error in Fortran called from calc_transfer:\nHMCode INTEGRATE, Integration timed out"
     ]
    }
   ],
   "source": [
    "pos = [1.2111250000000013, 0.31] + 1e-4 * np.random.randn(32, 2)\n",
    "nwalkers, ndim = pos.shape\n",
    "\n",
    "sampler = emcee.EnsembleSampler(nwalkers, ndim, log_probability, args = (corr_tree, data, centers))\n",
    "sampler.run_mcmc(pos, 100, progress=True);"
   ]
  },
  {
   "cell_type": "code",
   "execution_count": null,
   "metadata": {},
   "outputs": [],
   "source": [
    "# Stuff that will eventually plot it:"
   ]
  },
  {
   "cell_type": "code",
   "execution_count": null,
   "metadata": {},
   "outputs": [],
   "source": [
    "flat_samples = sampler.get_chain(flat=True)\n",
    "print(flat_samples.shape)"
   ]
  },
  {
   "cell_type": "code",
   "execution_count": null,
   "metadata": {},
   "outputs": [],
   "source": [
    "fig = corner.corner(\n",
    "    flat_samples, labels=labels, truths=[1.2111250000000013, 0.31]\n",
    ");"
   ]
  },
  {
   "cell_type": "code",
   "execution_count": null,
   "metadata": {},
   "outputs": [],
   "source": [
    "c = ChainConsumer()\n",
    "c.add_chain(SAMPLER_SOMETHING, parameters=[\"b\", \"$\\omega_M$\"])\n",
    "c.plotter.plot(filename=\"mcmc1.png\", figsize=\"column\", truth=[1.2111250000000013, 0.31])"
   ]
  },
  {
   "cell_type": "code",
   "execution_count": 23,
   "metadata": {},
   "outputs": [
    {
     "name": "stdout",
     "output_type": "stream",
     "text": [
      "corr_camb:  (16,)\n",
      "corr_tree:  (16,)\n",
      "inv cov:  (16, 16)\n"
     ]
    },
    {
     "data": {
      "text/plain": [
       "-232.37299178995937"
      ]
     },
     "execution_count": 23,
     "metadata": {},
     "output_type": "execute_result"
    }
   ],
   "source": [
    "log_likelihood([1.2, 0.31], corr_tree, data, centers)"
   ]
  },
  {
   "cell_type": "code",
   "execution_count": null,
   "metadata": {},
   "outputs": [],
   "source": []
  }
 ],
 "metadata": {
  "kernelspec": {
   "display_name": "Python 3",
   "language": "python",
   "name": "python3"
  },
  "language_info": {
   "codemirror_mode": {
    "name": "ipython",
    "version": 3
   },
   "file_extension": ".py",
   "mimetype": "text/x-python",
   "name": "python",
   "nbconvert_exporter": "python",
   "pygments_lexer": "ipython3",
   "version": "3.7.6"
  }
 },
 "nbformat": 4,
 "nbformat_minor": 4
}
