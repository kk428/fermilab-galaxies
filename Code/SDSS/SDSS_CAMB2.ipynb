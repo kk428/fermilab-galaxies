{
 "cells": [
  {
   "cell_type": "code",
   "execution_count": 3,
   "metadata": {},
   "outputs": [],
   "source": [
    "import matplotlib.pyplot as plt\n",
    "%matplotlib inline\n",
    "import camb\n",
    "from camb.sources import GaussianSourceWindow, SplinedSourceWindow\n",
    "import camb.correlations\n",
    "from camb import model, initialpower\n",
    "import numpy as np\n",
    "import astropy.table\n",
    "import pandas as pd\n",
    "import math\n",
    "import pickle\n",
    "from astroML.datasets import fetch_sdss_specgals\n",
    "from scipy.optimize import fmin\n",
    "\n",
    "import SDSS_treecorr as stc"
   ]
  },
  {
   "cell_type": "code",
   "execution_count": 4,
   "metadata": {},
   "outputs": [],
   "source": [
    "def getdata():\n",
    "    data = fetch_sdss_specgals()\n",
    "    m_max = 17.7\n",
    "    # redshift and magnitude cuts\n",
    "    data = data[data['z'] > 0.08]\n",
    "    data = data[data['z'] < 0.12]\n",
    "    data = data[data['petroMag_r'] < m_max]\n",
    "    # RA/DEC cuts\n",
    "    RAmin, RAmax = 140, 220 \n",
    "    DECmin, DECmax = 5, 45\n",
    "    data = data[data['ra'] < RAmax] \n",
    "    data = data[data['ra'] > RAmin] \n",
    "    data = data[data['dec'] < DECmax] \n",
    "    data = data[data['dec'] > DECmin]\n",
    "    ur = data['modelMag_u'] - data['modelMag_r'] \n",
    "    flag_red = (ur > 2.22)\n",
    "    flag_blue = ~flag_red\n",
    "    data_red = data[flag_red] \n",
    "    data_blue = data[flag_blue]\n",
    "    \n",
    "    return [data, data_red, data_blue]"
   ]
  },
  {
   "cell_type": "code",
   "execution_count": 5,
   "metadata": {},
   "outputs": [],
   "source": [
    "def getcorrTree(data):\n",
    "    corr, bincenters, cov = stc.calccorr(data)\n",
    "    return [corr, math.e**bincenters, cov]"
   ]
  },
  {
   "cell_type": "code",
   "execution_count": 36,
   "metadata": {},
   "outputs": [],
   "source": [
    "def getcorrCAMB(theta, data, centers):\n",
    "    Nz, be = np.histogram(data['z'], bins=8, range=(0.05,0.15))\n",
    "    lmax = 15000\n",
    "    pars = camb.CAMBparams() # Set up the CAMB parameters\n",
    "    h=0.675 # Planck value for h (Hubble parameter)\n",
    "    Ob = 0.044 # Planck value for Omega_b (Baryon energy density)\n",
    "    Om = theta[1] # Planck value for Omega_m (Matter energy density)\n",
    "    Oc = Om-Ob # Value for Omega_c (Cold dark matter energy density)\n",
    "    As=2e-9 # Amplitude of initial fluctuations\n",
    "    ns=0.965 # Scalar index\n",
    "    pars.set_cosmology(H0=100*h, ombh2=Ob*h**2, omch2=Oc*h**2) # This sets the cosmological parameters\n",
    "    pars.InitPower.set_params(As=As, ns=ns) # This also sets the cosmological parameters\n",
    "    pars.set_for_lmax(lmax, lens_potential_accuracy=1) # Set the maximum ell\n",
    "    #set Want_CMB to true if you also want CMB spectra or correlations\n",
    "    pars.Want_CMB = False # We don't want the CMB\n",
    "    #NonLinear_both or NonLinear_lens will use non-linear corrections\n",
    "    pars.NonLinear = model.NonLinear_both # We want non-linear corrections\n",
    "    #Set up W(z) window functions, later labelled W1, W2.\n",
    "    zs = 0.5*(be[1:] + be[:-1]) #z # Range of zs\n",
    "    W = Nz # Window function\n",
    "    pars.SourceWindows = [SplinedSourceWindow(source_type='counts', bias=theta[0], z=zs, W=W)] # Set up the window function\n",
    "    \n",
    "    results = camb.get_results(pars)\n",
    "    cls = results.get_source_cls_dict()\n",
    "    ls=  np.arange(2, lmax+1)\n",
    "    \n",
    "    angles = centers #np.logspace(-2, 1) # Angles from 0.01 to 10 deg\n",
    "    x = np.cos(np.radians(angles)) # Convert them to radians and compute cosine to passs to CAMB\n",
    "    cls_in = np.array([cls['W1xW1'][1:lmax+1], np.zeros(lmax), np.zeros(lmax), np.zeros(lmax)]).T\n",
    "    #cl2corr needs TT (temperature/density), EE (E-mode), BB (B-mode), TE (Temperature-polarization cross correlation) -> we only care about TT\n",
    "    w_camb = camb.correlations.cl2corr(cls_in, x);\n",
    "    \n",
    "    return w_camb"
   ]
  },
  {
   "cell_type": "code",
   "execution_count": 38,
   "metadata": {},
   "outputs": [],
   "source": [
    "def biasfunc2(b, corr_tree, corr_camb, inv_cov):\n",
    "    return np.einsum('i,i',(corr_tree- b**2*corr_camb), np.einsum('ij,j', inv_cov,(corr_tree- b**2*corr_camb)))"
   ]
  },
  {
   "cell_type": "code",
   "execution_count": 39,
   "metadata": {},
   "outputs": [],
   "source": [
    "def findb(data):\n",
    "    corr, centers, cov = getcorrTree(data)\n",
    "    w_camb = getcorrCAMB([1, 0.31], data, centers)\n",
    "    \n",
    "    corr_tree = corr[0]\n",
    "    corr_camb = w_camb[:,0]\n",
    "    \n",
    "    inv_cov = np.linalg.inv(cov)\n",
    "    \n",
    "    result = fmin(biasfunc2, 0, args = (corr_tree, corr_camb, inv_cov), disp=False);\n",
    "    \n",
    "    return result[0]\n",
    "    "
   ]
  },
  {
   "cell_type": "code",
   "execution_count": 27,
   "metadata": {},
   "outputs": [],
   "source": [
    "data = getdata()[0]\n",
    "corr, centers, cov = getcorrTree(data)"
   ]
  },
  {
   "cell_type": "code",
   "execution_count": 40,
   "metadata": {},
   "outputs": [
    {
     "data": {
      "text/plain": [
       "1.2111250000000013"
      ]
     },
     "execution_count": 40,
     "metadata": {},
     "output_type": "execute_result"
    }
   ],
   "source": [
    "findb(data)"
   ]
  },
  {
   "cell_type": "code",
   "execution_count": 42,
   "metadata": {},
   "outputs": [
    {
     "data": {
      "text/plain": [
       "(array([3.90093458, 2.84353741, 2.17452403, 1.69690949, 1.2649048 ,\n",
       "        0.94527034, 0.69250609, 0.52877871, 0.41319299, 0.31975283,\n",
       "        0.24682372, 0.19392103, 0.14885634, 0.10842921, 0.06446442,\n",
       "        0.03494276]),\n",
       " array([0.04010381, 0.0287429 , 0.01940184, 0.01672652, 0.01322045,\n",
       "        0.00957737, 0.00746904, 0.0060428 , 0.00536413, 0.00456449,\n",
       "        0.00444418, 0.00440232, 0.00494565, 0.00523362, 0.0051577 ,\n",
       "        0.00421692]))"
      ]
     },
     "execution_count": 42,
     "metadata": {},
     "output_type": "execute_result"
    }
   ],
   "source": [
    "corr"
   ]
  },
  {
   "cell_type": "code",
   "execution_count": 43,
   "metadata": {},
   "outputs": [
    {
     "ename": "ModuleNotFoundError",
     "evalue": "No module named 'pyccl'",
     "output_type": "error",
     "traceback": [
      "\u001b[0;31m---------------------------------------------------------------------------\u001b[0m",
      "\u001b[0;31mModuleNotFoundError\u001b[0m                       Traceback (most recent call last)",
      "\u001b[0;32m<ipython-input-43-7837a010f21e>\u001b[0m in \u001b[0;36m<module>\u001b[0;34m\u001b[0m\n\u001b[0;32m----> 1\u001b[0;31m \u001b[0;32mimport\u001b[0m \u001b[0mpyccl\u001b[0m\u001b[0;34m\u001b[0m\u001b[0;34m\u001b[0m\u001b[0m\n\u001b[0m",
      "\u001b[0;31mModuleNotFoundError\u001b[0m: No module named 'pyccl'"
     ]
    }
   ],
   "source": [
    "import pyccl"
   ]
  },
  {
   "cell_type": "code",
   "execution_count": null,
   "metadata": {},
   "outputs": [],
   "source": []
  }
 ],
 "metadata": {
  "kernelspec": {
   "display_name": "Python 3",
   "language": "python",
   "name": "python3"
  },
  "language_info": {
   "codemirror_mode": {
    "name": "ipython",
    "version": 3
   },
   "file_extension": ".py",
   "mimetype": "text/x-python",
   "name": "python",
   "nbconvert_exporter": "python",
   "pygments_lexer": "ipython3",
   "version": "3.7.6"
  }
 },
 "nbformat": 4,
 "nbformat_minor": 4
}
